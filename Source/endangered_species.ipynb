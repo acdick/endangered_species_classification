{
 "cells": [
  {
   "cell_type": "markdown",
   "metadata": {},
   "source": [
    "# U.S. Fish & Wildlife Service"
   ]
  },
  {
   "cell_type": "markdown",
   "metadata": {},
   "source": [
    "### Data Gathering"
   ]
  },
  {
   "cell_type": "code",
   "execution_count": 1,
   "metadata": {},
   "outputs": [],
   "source": [
    "import pandas as pd"
   ]
  },
  {
   "cell_type": "code",
   "execution_count": 2,
   "metadata": {
    "scrolled": false
   },
   "outputs": [
    {
     "name": "stdout",
     "output_type": "stream",
     "text": [
      "(9612, 15)\n"
     ]
    },
    {
     "data": {
      "text/html": [
       "<div>\n",
       "<style scoped>\n",
       "    .dataframe tbody tr th:only-of-type {\n",
       "        vertical-align: middle;\n",
       "    }\n",
       "\n",
       "    .dataframe tbody tr th {\n",
       "        vertical-align: top;\n",
       "    }\n",
       "\n",
       "    .dataframe thead th {\n",
       "        text-align: right;\n",
       "    }\n",
       "</style>\n",
       "<table border=\"1\" class=\"dataframe\">\n",
       "  <thead>\n",
       "    <tr style=\"text-align: right;\">\n",
       "      <th></th>\n",
       "      <th>Scientific Name</th>\n",
       "      <th>Common Name</th>\n",
       "      <th>Inverted Common Name</th>\n",
       "      <th>Species Code</th>\n",
       "      <th>Population Code</th>\n",
       "      <th>CurrentDistribution</th>\n",
       "      <th>Family</th>\n",
       "      <th>First Listed</th>\n",
       "      <th>Species Group</th>\n",
       "      <th>Lead Region</th>\n",
       "      <th>Federal Listing Status</th>\n",
       "      <th>Regions ofOccurrence</th>\n",
       "      <th>U.S. or ForeignListed</th>\n",
       "      <th>Vertebrate/Invertebrate/Plant</th>\n",
       "      <th>Where Listed</th>\n",
       "    </tr>\n",
       "  </thead>\n",
       "  <tbody>\n",
       "    <tr>\n",
       "      <th>0</th>\n",
       "      <td>Abies fraseri</td>\n",
       "      <td>Fraser fir</td>\n",
       "      <td>Fir, Fraser</td>\n",
       "      <td>R00B</td>\n",
       "      <td>P01</td>\n",
       "      <td>NC, VA;</td>\n",
       "      <td>Pinaceae</td>\n",
       "      <td>NaN</td>\n",
       "      <td>Conifers and Cycads</td>\n",
       "      <td>4</td>\n",
       "      <td>Not Listed</td>\n",
       "      <td>4, 5</td>\n",
       "      <td>US</td>\n",
       "      <td>P</td>\n",
       "      <td>Wherever found</td>\n",
       "    </tr>\n",
       "    <tr>\n",
       "      <th>1</th>\n",
       "      <td>Abies guatemalensis</td>\n",
       "      <td>Guatemalan Fir (=pinabete)</td>\n",
       "      <td>Fir, Guatemalan (=pinabete)</td>\n",
       "      <td>R003</td>\n",
       "      <td>P01</td>\n",
       "      <td>Mexico, Honduras, Guatemala, El Salvador</td>\n",
       "      <td>Pinaceae</td>\n",
       "      <td>Dec 10, 1979</td>\n",
       "      <td>Conifers and Cycads</td>\n",
       "      <td>Foreign</td>\n",
       "      <td>Threatened</td>\n",
       "      <td>NaN</td>\n",
       "      <td>Foreign</td>\n",
       "      <td>P</td>\n",
       "      <td>Wherever found</td>\n",
       "    </tr>\n",
       "    <tr>\n",
       "      <th>2</th>\n",
       "      <td>Ablautus schlingeri</td>\n",
       "      <td>Oso Flaco robber fly</td>\n",
       "      <td>Robber fly, Oso Flaco</td>\n",
       "      <td>I0O3</td>\n",
       "      <td>I01</td>\n",
       "      <td>CA;</td>\n",
       "      <td>Asilidae</td>\n",
       "      <td>NaN</td>\n",
       "      <td>Insects</td>\n",
       "      <td>1</td>\n",
       "      <td>Not Listed</td>\n",
       "      <td>8</td>\n",
       "      <td>US</td>\n",
       "      <td>I</td>\n",
       "      <td>Wherever found</td>\n",
       "    </tr>\n",
       "    <tr>\n",
       "      <th>3</th>\n",
       "      <td>Abronia alpina</td>\n",
       "      <td>Ramshaw Meadows sand-verbena</td>\n",
       "      <td>Sand-verbena, Ramshaw Meadows</td>\n",
       "      <td>Q009</td>\n",
       "      <td>P01</td>\n",
       "      <td>CA;</td>\n",
       "      <td>Nyctaginaceae</td>\n",
       "      <td>NaN</td>\n",
       "      <td>Flowering Plants</td>\n",
       "      <td>8</td>\n",
       "      <td>Not Listed</td>\n",
       "      <td>8</td>\n",
       "      <td>US</td>\n",
       "      <td>P</td>\n",
       "      <td>Wherever found</td>\n",
       "    </tr>\n",
       "    <tr>\n",
       "      <th>4</th>\n",
       "      <td>Abronia ammophila</td>\n",
       "      <td>Yellowstone Sand Verbena</td>\n",
       "      <td>Verbena Yellowstone Sand</td>\n",
       "      <td>Q3LO</td>\n",
       "      <td>P01</td>\n",
       "      <td>NaN</td>\n",
       "      <td>Nyctaginaceae</td>\n",
       "      <td>NaN</td>\n",
       "      <td>Flowering Plants</td>\n",
       "      <td>6</td>\n",
       "      <td>Not Listed</td>\n",
       "      <td>NaN</td>\n",
       "      <td>US</td>\n",
       "      <td>P</td>\n",
       "      <td>Wherever found</td>\n",
       "    </tr>\n",
       "  </tbody>\n",
       "</table>\n",
       "</div>"
      ],
      "text/plain": [
       "       Scientific Name                   Common Name  \\\n",
       "0        Abies fraseri                    Fraser fir   \n",
       "1  Abies guatemalensis    Guatemalan Fir (=pinabete)   \n",
       "2  Ablautus schlingeri          Oso Flaco robber fly   \n",
       "3       Abronia alpina  Ramshaw Meadows sand-verbena   \n",
       "4    Abronia ammophila      Yellowstone Sand Verbena   \n",
       "\n",
       "            Inverted Common Name Species Code Population Code  \\\n",
       "0                    Fir, Fraser         R00B             P01   \n",
       "1    Fir, Guatemalan (=pinabete)         R003             P01   \n",
       "2          Robber fly, Oso Flaco         I0O3             I01   \n",
       "3  Sand-verbena, Ramshaw Meadows         Q009             P01   \n",
       "4       Verbena Yellowstone Sand         Q3LO             P01   \n",
       "\n",
       "                        CurrentDistribution         Family  First Listed  \\\n",
       "0                                   NC, VA;       Pinaceae           NaN   \n",
       "1  Mexico, Honduras, Guatemala, El Salvador       Pinaceae  Dec 10, 1979   \n",
       "2                                       CA;       Asilidae           NaN   \n",
       "3                                       CA;  Nyctaginaceae           NaN   \n",
       "4                                       NaN  Nyctaginaceae           NaN   \n",
       "\n",
       "         Species Group Lead Region Federal Listing Status  \\\n",
       "0  Conifers and Cycads           4             Not Listed   \n",
       "1  Conifers and Cycads     Foreign             Threatened   \n",
       "2              Insects           1             Not Listed   \n",
       "3     Flowering Plants           8             Not Listed   \n",
       "4     Flowering Plants           6             Not Listed   \n",
       "\n",
       "  Regions ofOccurrence U.S. or ForeignListed Vertebrate/Invertebrate/Plant  \\\n",
       "0                 4, 5                    US                             P   \n",
       "1                  NaN               Foreign                             P   \n",
       "2                    8                    US                             I   \n",
       "3                    8                    US                             P   \n",
       "4                  NaN                    US                             P   \n",
       "\n",
       "     Where Listed  \n",
       "0  Wherever found  \n",
       "1  Wherever found  \n",
       "2  Wherever found  \n",
       "3  Wherever found  \n",
       "4  Wherever found  "
      ]
     },
     "execution_count": 2,
     "metadata": {},
     "output_type": "execute_result"
    }
   ],
   "source": [
    "# All plants and animals (9612 records, 15 columns)\n",
    "species = pd.read_html('../Data/fws.html', header=0)[0]\n",
    "print(species.shape)\n",
    "species.head()"
   ]
  },
  {
   "cell_type": "markdown",
   "metadata": {},
   "source": [
    "### Feature Selection"
   ]
  },
  {
   "cell_type": "code",
   "execution_count": 3,
   "metadata": {
    "scrolled": true
   },
   "outputs": [
    {
     "name": "stdout",
     "output_type": "stream",
     "text": [
      "Scientific Name: 9318\n",
      "Common Name: 7129\n",
      "Inverted Common Name: 7108\n",
      "Species Code: 9430\n",
      "Population Code: 20\n",
      "CurrentDistribution: 1678\n",
      "Family: 900\n",
      "First Listed: 638\n",
      "Species Group: 20\n",
      "Lead Region: 12\n",
      "Federal Listing Status: 19\n",
      "Regions ofOccurrence: 58\n",
      "U.S. or ForeignListed: 4\n",
      "Vertebrate/Invertebrate/Plant: 3\n",
      "Where Listed: 322\n"
     ]
    }
   ],
   "source": [
    "# print unique values in each column\n",
    "for column in species.columns:\n",
    "    print(column + ': ' + str(len(species[column].unique())))"
   ]
  },
  {
   "cell_type": "code",
   "execution_count": 4,
   "metadata": {},
   "outputs": [],
   "source": [
    "# drop uninformative columns\n",
    "species = species.drop(['Inverted Common Name',\n",
    "                        'Species Code',\n",
    "                        'Population Code',\n",
    "                        'Family',\n",
    "                        'First Listed',\n",
    "                        'Regions ofOccurrence',\n",
    "                        'U.S. or ForeignListed',\n",
    "                        'Where Listed'], axis=1)"
   ]
  },
  {
   "cell_type": "code",
   "execution_count": 5,
   "metadata": {
    "scrolled": false
   },
   "outputs": [
    {
     "name": "stdout",
     "output_type": "stream",
     "text": [
      "(9612, 7)\n"
     ]
    },
    {
     "data": {
      "text/html": [
       "<div>\n",
       "<style scoped>\n",
       "    .dataframe tbody tr th:only-of-type {\n",
       "        vertical-align: middle;\n",
       "    }\n",
       "\n",
       "    .dataframe tbody tr th {\n",
       "        vertical-align: top;\n",
       "    }\n",
       "\n",
       "    .dataframe thead th {\n",
       "        text-align: right;\n",
       "    }\n",
       "</style>\n",
       "<table border=\"1\" class=\"dataframe\">\n",
       "  <thead>\n",
       "    <tr style=\"text-align: right;\">\n",
       "      <th></th>\n",
       "      <th>Scientific Name</th>\n",
       "      <th>Common Name</th>\n",
       "      <th>CurrentDistribution</th>\n",
       "      <th>Species Group</th>\n",
       "      <th>Lead Region</th>\n",
       "      <th>Federal Listing Status</th>\n",
       "      <th>Vertebrate/Invertebrate/Plant</th>\n",
       "    </tr>\n",
       "  </thead>\n",
       "  <tbody>\n",
       "    <tr>\n",
       "      <th>0</th>\n",
       "      <td>Abies fraseri</td>\n",
       "      <td>Fraser fir</td>\n",
       "      <td>NC, VA;</td>\n",
       "      <td>Conifers and Cycads</td>\n",
       "      <td>4</td>\n",
       "      <td>Not Listed</td>\n",
       "      <td>P</td>\n",
       "    </tr>\n",
       "    <tr>\n",
       "      <th>1</th>\n",
       "      <td>Abies guatemalensis</td>\n",
       "      <td>Guatemalan Fir (=pinabete)</td>\n",
       "      <td>Mexico, Honduras, Guatemala, El Salvador</td>\n",
       "      <td>Conifers and Cycads</td>\n",
       "      <td>Foreign</td>\n",
       "      <td>Threatened</td>\n",
       "      <td>P</td>\n",
       "    </tr>\n",
       "    <tr>\n",
       "      <th>2</th>\n",
       "      <td>Ablautus schlingeri</td>\n",
       "      <td>Oso Flaco robber fly</td>\n",
       "      <td>CA;</td>\n",
       "      <td>Insects</td>\n",
       "      <td>1</td>\n",
       "      <td>Not Listed</td>\n",
       "      <td>I</td>\n",
       "    </tr>\n",
       "    <tr>\n",
       "      <th>3</th>\n",
       "      <td>Abronia alpina</td>\n",
       "      <td>Ramshaw Meadows sand-verbena</td>\n",
       "      <td>CA;</td>\n",
       "      <td>Flowering Plants</td>\n",
       "      <td>8</td>\n",
       "      <td>Not Listed</td>\n",
       "      <td>P</td>\n",
       "    </tr>\n",
       "    <tr>\n",
       "      <th>4</th>\n",
       "      <td>Abronia ammophila</td>\n",
       "      <td>Yellowstone Sand Verbena</td>\n",
       "      <td>NaN</td>\n",
       "      <td>Flowering Plants</td>\n",
       "      <td>6</td>\n",
       "      <td>Not Listed</td>\n",
       "      <td>P</td>\n",
       "    </tr>\n",
       "  </tbody>\n",
       "</table>\n",
       "</div>"
      ],
      "text/plain": [
       "       Scientific Name                   Common Name  \\\n",
       "0        Abies fraseri                    Fraser fir   \n",
       "1  Abies guatemalensis    Guatemalan Fir (=pinabete)   \n",
       "2  Ablautus schlingeri          Oso Flaco robber fly   \n",
       "3       Abronia alpina  Ramshaw Meadows sand-verbena   \n",
       "4    Abronia ammophila      Yellowstone Sand Verbena   \n",
       "\n",
       "                        CurrentDistribution        Species Group Lead Region  \\\n",
       "0                                   NC, VA;  Conifers and Cycads           4   \n",
       "1  Mexico, Honduras, Guatemala, El Salvador  Conifers and Cycads     Foreign   \n",
       "2                                       CA;              Insects           1   \n",
       "3                                       CA;     Flowering Plants           8   \n",
       "4                                       NaN     Flowering Plants           6   \n",
       "\n",
       "  Federal Listing Status Vertebrate/Invertebrate/Plant  \n",
       "0             Not Listed                             P  \n",
       "1             Threatened                             P  \n",
       "2             Not Listed                             I  \n",
       "3             Not Listed                             P  \n",
       "4             Not Listed                             P  "
      ]
     },
     "execution_count": 5,
     "metadata": {},
     "output_type": "execute_result"
    }
   ],
   "source": [
    "print(species.shape)\n",
    "species.head()"
   ]
  },
  {
   "cell_type": "markdown",
   "metadata": {},
   "source": [
    "### Missing Data"
   ]
  },
  {
   "cell_type": "code",
   "execution_count": 6,
   "metadata": {},
   "outputs": [],
   "source": [
    "import missingno as msno"
   ]
  },
  {
   "cell_type": "code",
   "execution_count": 7,
   "metadata": {
    "scrolled": false
   },
   "outputs": [
    {
     "name": "stdout",
     "output_type": "stream",
     "text": [
      "Scientific Name                    0\n",
      "Common Name                        0\n",
      "CurrentDistribution              860\n",
      "Species Group                      0\n",
      "Lead Region                       73\n",
      "Federal Listing Status             0\n",
      "Vertebrate/Invertebrate/Plant      0\n",
      "dtype: int64\n"
     ]
    },
    {
     "data": {
      "text/plain": [
       "<matplotlib.axes._subplots.AxesSubplot at 0x11ac7b9b0>"
      ]
     },
     "execution_count": 7,
     "metadata": {},
     "output_type": "execute_result"
    },
    {
     "data": {
      "image/png": "[encoded data removed]",
      "text/plain": [
       "<Figure size 1800x720 with 2 Axes>"
      ]
     },
     "metadata": {
      "needs_background": "light"
     },
     "output_type": "display_data"
    }
   ],
   "source": [
    "# check species data for null values\n",
    "print(species.isnull().sum())\n",
    "\n",
    "# visualize null values\n",
    "msno.matrix(species)"
   ]
  },
  {
   "cell_type": "code",
   "execution_count": 8,
   "metadata": {
    "scrolled": false
   },
   "outputs": [
    {
     "name": "stdout",
     "output_type": "stream",
     "text": [
      "0.0970661672908864\n"
     ]
    }
   ],
   "source": [
    "# ~10% of records that do not have geographic information\n",
    "print(species.isnull().sum().sum() / species.shape[0])\n",
    "\n",
    "# drop records without geographic information\n",
    "species = species.dropna()"
   ]
  },
  {
   "cell_type": "code",
   "execution_count": 9,
   "metadata": {
    "scrolled": true
   },
   "outputs": [
    {
     "name": "stdout",
     "output_type": "stream",
     "text": [
      "(8751, 7)\n"
     ]
    },
    {
     "data": {
      "text/html": [
       "<div>\n",
       "<style scoped>\n",
       "    .dataframe tbody tr th:only-of-type {\n",
       "        vertical-align: middle;\n",
       "    }\n",
       "\n",
       "    .dataframe tbody tr th {\n",
       "        vertical-align: top;\n",
       "    }\n",
       "\n",
       "    .dataframe thead th {\n",
       "        text-align: right;\n",
       "    }\n",
       "</style>\n",
       "<table border=\"1\" class=\"dataframe\">\n",
       "  <thead>\n",
       "    <tr style=\"text-align: right;\">\n",
       "      <th></th>\n",
       "      <th>Scientific Name</th>\n",
       "      <th>Common Name</th>\n",
       "      <th>CurrentDistribution</th>\n",
       "      <th>Species Group</th>\n",
       "      <th>Lead Region</th>\n",
       "      <th>Federal Listing Status</th>\n",
       "      <th>Vertebrate/Invertebrate/Plant</th>\n",
       "    </tr>\n",
       "  </thead>\n",
       "  <tbody>\n",
       "    <tr>\n",
       "      <th>0</th>\n",
       "      <td>Abies fraseri</td>\n",
       "      <td>Fraser fir</td>\n",
       "      <td>NC, VA;</td>\n",
       "      <td>Conifers and Cycads</td>\n",
       "      <td>4</td>\n",
       "      <td>Not Listed</td>\n",
       "      <td>P</td>\n",
       "    </tr>\n",
       "    <tr>\n",
       "      <th>1</th>\n",
       "      <td>Abies guatemalensis</td>\n",
       "      <td>Guatemalan Fir (=pinabete)</td>\n",
       "      <td>Mexico, Honduras, Guatemala, El Salvador</td>\n",
       "      <td>Conifers and Cycads</td>\n",
       "      <td>Foreign</td>\n",
       "      <td>Threatened</td>\n",
       "      <td>P</td>\n",
       "    </tr>\n",
       "    <tr>\n",
       "      <th>2</th>\n",
       "      <td>Ablautus schlingeri</td>\n",
       "      <td>Oso Flaco robber fly</td>\n",
       "      <td>CA;</td>\n",
       "      <td>Insects</td>\n",
       "      <td>1</td>\n",
       "      <td>Not Listed</td>\n",
       "      <td>I</td>\n",
       "    </tr>\n",
       "    <tr>\n",
       "      <th>3</th>\n",
       "      <td>Abronia alpina</td>\n",
       "      <td>Ramshaw Meadows sand-verbena</td>\n",
       "      <td>CA;</td>\n",
       "      <td>Flowering Plants</td>\n",
       "      <td>8</td>\n",
       "      <td>Not Listed</td>\n",
       "      <td>P</td>\n",
       "    </tr>\n",
       "    <tr>\n",
       "      <th>6</th>\n",
       "      <td>Abronia ammphila</td>\n",
       "      <td>[Unnamed] sand-verbena</td>\n",
       "      <td>WY;</td>\n",
       "      <td>Flowering Plants</td>\n",
       "      <td>6</td>\n",
       "      <td>Not Listed</td>\n",
       "      <td>P</td>\n",
       "    </tr>\n",
       "  </tbody>\n",
       "</table>\n",
       "</div>"
      ],
      "text/plain": [
       "       Scientific Name                   Common Name  \\\n",
       "0        Abies fraseri                    Fraser fir   \n",
       "1  Abies guatemalensis    Guatemalan Fir (=pinabete)   \n",
       "2  Ablautus schlingeri          Oso Flaco robber fly   \n",
       "3       Abronia alpina  Ramshaw Meadows sand-verbena   \n",
       "6     Abronia ammphila        [Unnamed] sand-verbena   \n",
       "\n",
       "                        CurrentDistribution        Species Group Lead Region  \\\n",
       "0                                   NC, VA;  Conifers and Cycads           4   \n",
       "1  Mexico, Honduras, Guatemala, El Salvador  Conifers and Cycads     Foreign   \n",
       "2                                       CA;              Insects           1   \n",
       "3                                       CA;     Flowering Plants           8   \n",
       "6                                       WY;     Flowering Plants           6   \n",
       "\n",
       "  Federal Listing Status Vertebrate/Invertebrate/Plant  \n",
       "0             Not Listed                             P  \n",
       "1             Threatened                             P  \n",
       "2             Not Listed                             I  \n",
       "3             Not Listed                             P  \n",
       "6             Not Listed                             P  "
      ]
     },
     "execution_count": 9,
     "metadata": {},
     "output_type": "execute_result"
    }
   ],
   "source": [
    "print(species.shape)\n",
    "species.head()"
   ]
  },
  {
   "cell_type": "markdown",
   "metadata": {},
   "source": [
    "### Feature Cleaning"
   ]
  },
  {
   "cell_type": "code",
   "execution_count": 10,
   "metadata": {
    "scrolled": false
   },
   "outputs": [
    {
     "data": {
      "text/plain": [
       "Species Group\n",
       "Amphibians                   138\n",
       "Annelid Worms                  2\n",
       "Arachnids                     50\n",
       "Birds                        475\n",
       "Clams                        203\n",
       "Conifers and Cycads           22\n",
       "Corals                         3\n",
       "Crustaceans                  230\n",
       "Ferns and Allies              95\n",
       "Fishes                       429\n",
       "Flatworms and Roundworms       8\n",
       "Flowering Plants            4584\n",
       "Hydroids                       1\n",
       "Insects                     1063\n",
       "Lichens                       17\n",
       "Mammals                      660\n",
       "Millipedes                     1\n",
       "Reptiles                     257\n",
       "Snails                       506\n",
       "Sponges                        7\n",
       "Name: Species Group, dtype: int64"
      ]
     },
     "execution_count": 10,
     "metadata": {},
     "output_type": "execute_result"
    }
   ],
   "source": [
    "# unique species groups\n",
    "species.groupby('Species Group')['Species Group'].count()"
   ]
  },
  {
   "cell_type": "code",
   "execution_count": 11,
   "metadata": {},
   "outputs": [
    {
     "data": {
      "text/plain": [
       "Vertebrate/Invertebrate/Plant\n",
       "I    2074\n",
       "P    4718\n",
       "V    1959\n",
       "Name: Vertebrate/Invertebrate/Plant, dtype: int64"
      ]
     },
     "execution_count": 11,
     "metadata": {},
     "output_type": "execute_result"
    }
   ],
   "source": [
    "# unique species types\n",
    "species.groupby('Vertebrate/Invertebrate/Plant')['Vertebrate/Invertebrate/Plant'].count()"
   ]
  },
  {
   "cell_type": "code",
   "execution_count": 12,
   "metadata": {
    "scrolled": true
   },
   "outputs": [
    {
     "name": "stdout",
     "output_type": "stream",
     "text": [
      "Lead Region\n",
      "1          3531\n",
      "2           989\n",
      "3           211\n",
      "4          1804\n",
      "5           355\n",
      "6           615\n",
      "7            76\n",
      "8           480\n",
      "9             1\n",
      "Foreign     624\n",
      "NMFS         65\n",
      "Name: Lead Region, dtype: int64\n"
     ]
    }
   ],
   "source": [
    "# unique current distribution\n",
    "print(species.groupby('Lead Region')['Lead Region'].count())\n",
    "\n",
    "# drop species in foreign geographic regions\n",
    "species = species[species['Lead Region'] != 'Foreign']\n",
    "\n",
    "# drop species in geographic region 9 (not documented)\n",
    "species = species[species['Lead Region'] != '9']"
   ]
  },
  {
   "cell_type": "code",
   "execution_count": 13,
   "metadata": {
    "scrolled": false
   },
   "outputs": [],
   "source": [
    "# list of US states\n",
    "state_abbrevs = ['AL', 'AK', 'AZ', 'AR', 'CA', 'CO', 'CT', 'DE', 'FL', 'GA',\n",
    "                 'HI', 'ID', 'IL', 'IN', 'IA', 'KS', 'KY', 'LA', 'ME', 'MD',\n",
    "                 'MA', 'MI', 'MN', 'MS', 'MO', 'MT', 'NE', 'NV', 'NH', 'NJ',\n",
    "                 'NM', 'NY', 'NC', 'ND', 'OH', 'OK', 'OR', 'PA', 'RI', 'SC',\n",
    "                 'SD', 'TN', 'TX', 'UT', 'VT', 'VA', 'WA', 'WV', 'WI', 'WY']\n",
    "\n",
    "# stack records with multiple US states in current distribution\n",
    "species_stack = pd.DataFrame(columns=species.columns)\n",
    "\n",
    "for abbrev in state_abbrevs:\n",
    "    state = species[species['CurrentDistribution'].str.contains(abbrev)]\n",
    "    state = state.assign(StateDistribution=abbrev)\n",
    "    species_stack = species_stack.append(state, ignore_index=True, sort=False)\n",
    "    \n",
    "# drop current distribution\n",
    "species = species_stack.drop(['CurrentDistribution'], axis=1)"
   ]
  },
  {
   "cell_type": "code",
   "execution_count": 14,
   "metadata": {
    "scrolled": false
   },
   "outputs": [
    {
     "name": "stdout",
     "output_type": "stream",
     "text": [
      "Federal Listing Status\n",
      "Candidate                                                    34\n",
      "Endangered                                                 1901\n",
      "Experimental Population, Non-Essential                      260\n",
      "Extinction                                                   17\n",
      "Not Listed                                                 9074\n",
      "Original Data in Error - Act Amendment                        1\n",
      "Original Data in Error - New Information Discovered           9\n",
      "Original Data in Error - Not a listable entity                7\n",
      "Original Data in Error - Taxonomic Revision                   9\n",
      "Proposed Endangered                                           3\n",
      "Proposed Similarity of Appearance to a Threatened Taxon       1\n",
      "Proposed Threatened                                          62\n",
      "Recovery                                                     83\n",
      "Similarity of Appearance to a Threatened Taxon               40\n",
      "Threatened                                                  817\n",
      "Under Review in the Candidate or Petition Process          1073\n",
      "Name: Federal Listing Status, dtype: int64\n"
     ]
    }
   ],
   "source": [
    "# unique federal listing status\n",
    "print(species.groupby('Federal Listing Status')['Federal Listing Status'].count())\n",
    "\n",
    "# keep records for endangered, not listed and threatened species\n",
    "species = species[(species['Federal Listing Status'] == 'Endangered') |\n",
    "                  (species['Federal Listing Status'] == 'Not Listed') |\n",
    "                  (species['Federal Listing Status'] == 'Threatened')]"
   ]
  },
  {
   "cell_type": "code",
   "execution_count": 15,
   "metadata": {},
   "outputs": [],
   "source": [
    "# drop duplicate rows\n",
    "species = species.drop_duplicates()"
   ]
  },
  {
   "cell_type": "code",
   "execution_count": 16,
   "metadata": {},
   "outputs": [
    {
     "name": "stdout",
     "output_type": "stream",
     "text": [
      "(11737, 7)\n"
     ]
    },
    {
     "data": {
      "text/html": [
       "<div>\n",
       "<style scoped>\n",
       "    .dataframe tbody tr th:only-of-type {\n",
       "        vertical-align: middle;\n",
       "    }\n",
       "\n",
       "    .dataframe tbody tr th {\n",
       "        vertical-align: top;\n",
       "    }\n",
       "\n",
       "    .dataframe thead th {\n",
       "        text-align: right;\n",
       "    }\n",
       "</style>\n",
       "<table border=\"1\" class=\"dataframe\">\n",
       "  <thead>\n",
       "    <tr style=\"text-align: right;\">\n",
       "      <th></th>\n",
       "      <th>Scientific Name</th>\n",
       "      <th>Common Name</th>\n",
       "      <th>Species Group</th>\n",
       "      <th>Lead Region</th>\n",
       "      <th>Federal Listing Status</th>\n",
       "      <th>Vertebrate/Invertebrate/Plant</th>\n",
       "      <th>StateDistribution</th>\n",
       "    </tr>\n",
       "  </thead>\n",
       "  <tbody>\n",
       "    <tr>\n",
       "      <th>0</th>\n",
       "      <td>Accipiter gentilis</td>\n",
       "      <td>Northern goshawk</td>\n",
       "      <td>Birds</td>\n",
       "      <td>2</td>\n",
       "      <td>Not Listed</td>\n",
       "      <td>V</td>\n",
       "      <td>AL</td>\n",
       "    </tr>\n",
       "    <tr>\n",
       "      <th>1</th>\n",
       "      <td>Acipenser fulvescens</td>\n",
       "      <td>Lake sturgeon</td>\n",
       "      <td>Fishes</td>\n",
       "      <td>3</td>\n",
       "      <td>Not Listed</td>\n",
       "      <td>V</td>\n",
       "      <td>AL</td>\n",
       "    </tr>\n",
       "    <tr>\n",
       "      <th>2</th>\n",
       "      <td>Acipenser oxyrinchus (=oxyrhynchus) desotoi</td>\n",
       "      <td>Atlantic sturgeon (Gulf subspecies)</td>\n",
       "      <td>Fishes</td>\n",
       "      <td>4</td>\n",
       "      <td>Threatened</td>\n",
       "      <td>V</td>\n",
       "      <td>AL</td>\n",
       "    </tr>\n",
       "    <tr>\n",
       "      <th>3</th>\n",
       "      <td>Agarodes alabamensis</td>\n",
       "      <td>[Unnamed] caddisfly</td>\n",
       "      <td>Insects</td>\n",
       "      <td>4</td>\n",
       "      <td>Not Listed</td>\n",
       "      <td>I</td>\n",
       "      <td>AL</td>\n",
       "    </tr>\n",
       "    <tr>\n",
       "      <th>4</th>\n",
       "      <td>Agrimonia incisa</td>\n",
       "      <td>Incised groovebur</td>\n",
       "      <td>Flowering Plants</td>\n",
       "      <td>4</td>\n",
       "      <td>Not Listed</td>\n",
       "      <td>P</td>\n",
       "      <td>AL</td>\n",
       "    </tr>\n",
       "  </tbody>\n",
       "</table>\n",
       "</div>"
      ],
      "text/plain": [
       "                               Scientific Name  \\\n",
       "0                           Accipiter gentilis   \n",
       "1                         Acipenser fulvescens   \n",
       "2  Acipenser oxyrinchus (=oxyrhynchus) desotoi   \n",
       "3                         Agarodes alabamensis   \n",
       "4                             Agrimonia incisa   \n",
       "\n",
       "                           Common Name     Species Group Lead Region  \\\n",
       "0                     Northern goshawk             Birds           2   \n",
       "1                        Lake sturgeon            Fishes           3   \n",
       "2  Atlantic sturgeon (Gulf subspecies)            Fishes           4   \n",
       "3                  [Unnamed] caddisfly           Insects           4   \n",
       "4                    Incised groovebur  Flowering Plants           4   \n",
       "\n",
       "  Federal Listing Status Vertebrate/Invertebrate/Plant StateDistribution  \n",
       "0             Not Listed                             V                AL  \n",
       "1             Not Listed                             V                AL  \n",
       "2             Threatened                             V                AL  \n",
       "3             Not Listed                             I                AL  \n",
       "4             Not Listed                             P                AL  "
      ]
     },
     "execution_count": 16,
     "metadata": {},
     "output_type": "execute_result"
    }
   ],
   "source": [
    "print(species.shape)\n",
    "species.head()"
   ]
  },
  {
   "cell_type": "markdown",
   "metadata": {},
   "source": [
    "# Exploratory Data Analysis"
   ]
  },
  {
   "cell_type": "code",
   "execution_count": 17,
   "metadata": {},
   "outputs": [],
   "source": [
    "import matplotlib.pyplot as plt\n",
    "import seaborn as sns\n",
    "sns.set_style(\"darkgrid\")"
   ]
  },
  {
   "cell_type": "code",
   "execution_count": 18,
   "metadata": {
    "scrolled": true
   },
   "outputs": [
    {
     "name": "stdout",
     "output_type": "stream",
     "text": [
      "<class 'pandas.core.frame.DataFrame'>\n",
      "Int64Index: 11737 entries, 0 to 13390\n",
      "Data columns (total 7 columns):\n",
      "Scientific Name                  11737 non-null object\n",
      "Common Name                      11737 non-null object\n",
      "Species Group                    11737 non-null object\n",
      "Lead Region                      11737 non-null object\n",
      "Federal Listing Status           11737 non-null object\n",
      "Vertebrate/Invertebrate/Plant    11737 non-null object\n",
      "StateDistribution                11737 non-null object\n",
      "dtypes: object(7)\n",
      "memory usage: 733.6+ KB\n"
     ]
    }
   ],
   "source": [
    "species.info()"
   ]
  },
  {
   "cell_type": "code",
   "execution_count": 19,
   "metadata": {},
   "outputs": [
    {
     "data": {
      "text/html": [
       "<div>\n",
       "<style scoped>\n",
       "    .dataframe tbody tr th:only-of-type {\n",
       "        vertical-align: middle;\n",
       "    }\n",
       "\n",
       "    .dataframe tbody tr th {\n",
       "        vertical-align: top;\n",
       "    }\n",
       "\n",
       "    .dataframe thead th {\n",
       "        text-align: right;\n",
       "    }\n",
       "</style>\n",
       "<table border=\"1\" class=\"dataframe\">\n",
       "  <thead>\n",
       "    <tr style=\"text-align: right;\">\n",
       "      <th></th>\n",
       "      <th>Scientific Name</th>\n",
       "      <th>Common Name</th>\n",
       "      <th>Species Group</th>\n",
       "      <th>Lead Region</th>\n",
       "      <th>Federal Listing Status</th>\n",
       "      <th>Vertebrate/Invertebrate/Plant</th>\n",
       "      <th>StateDistribution</th>\n",
       "    </tr>\n",
       "  </thead>\n",
       "  <tbody>\n",
       "    <tr>\n",
       "      <th>count</th>\n",
       "      <td>11737</td>\n",
       "      <td>11737</td>\n",
       "      <td>11737</td>\n",
       "      <td>11737</td>\n",
       "      <td>11737</td>\n",
       "      <td>11737</td>\n",
       "      <td>11737</td>\n",
       "    </tr>\n",
       "    <tr>\n",
       "      <th>unique</th>\n",
       "      <td>7116</td>\n",
       "      <td>5217</td>\n",
       "      <td>20</td>\n",
       "      <td>9</td>\n",
       "      <td>3</td>\n",
       "      <td>3</td>\n",
       "      <td>50</td>\n",
       "    </tr>\n",
       "    <tr>\n",
       "      <th>top</th>\n",
       "      <td>Accipiter gentilis</td>\n",
       "      <td>No common name</td>\n",
       "      <td>Flowering Plants</td>\n",
       "      <td>1</td>\n",
       "      <td>Not Listed</td>\n",
       "      <td>P</td>\n",
       "      <td>CA</td>\n",
       "    </tr>\n",
       "    <tr>\n",
       "      <th>freq</th>\n",
       "      <td>44</td>\n",
       "      <td>1807</td>\n",
       "      <td>6288</td>\n",
       "      <td>3904</td>\n",
       "      <td>9040</td>\n",
       "      <td>6492</td>\n",
       "      <td>1697</td>\n",
       "    </tr>\n",
       "  </tbody>\n",
       "</table>\n",
       "</div>"
      ],
      "text/plain": [
       "           Scientific Name     Common Name     Species Group Lead Region  \\\n",
       "count                11737           11737             11737       11737   \n",
       "unique                7116            5217                20           9   \n",
       "top     Accipiter gentilis  No common name  Flowering Plants           1   \n",
       "freq                    44            1807              6288        3904   \n",
       "\n",
       "       Federal Listing Status Vertebrate/Invertebrate/Plant StateDistribution  \n",
       "count                   11737                         11737             11737  \n",
       "unique                      3                             3                50  \n",
       "top                Not Listed                             P                CA  \n",
       "freq                     9040                          6492              1697  "
      ]
     },
     "execution_count": 19,
     "metadata": {},
     "output_type": "execute_result"
    }
   ],
   "source": [
    "species.describe()"
   ]
  },
  {
   "cell_type": "code",
   "execution_count": 20,
   "metadata": {},
   "outputs": [],
   "source": [
    "species.columns = ['Scientific Name',\n",
    "                   'Common Name',\n",
    "                   'Group',\n",
    "                   'Region',\n",
    "                   'Federal Listing Status',\n",
    "                   'VIP',\n",
    "                   'State']"
   ]
  },
  {
   "cell_type": "code",
   "execution_count": 21,
   "metadata": {
    "scrolled": true
   },
   "outputs": [
    {
     "data": {
      "text/html": [
       "<div>\n",
       "<style scoped>\n",
       "    .dataframe tbody tr th:only-of-type {\n",
       "        vertical-align: middle;\n",
       "    }\n",
       "\n",
       "    .dataframe tbody tr th {\n",
       "        vertical-align: top;\n",
       "    }\n",
       "\n",
       "    .dataframe thead th {\n",
       "        text-align: right;\n",
       "    }\n",
       "</style>\n",
       "<table border=\"1\" class=\"dataframe\">\n",
       "  <thead>\n",
       "    <tr style=\"text-align: right;\">\n",
       "      <th></th>\n",
       "      <th>Scientific Name</th>\n",
       "      <th>Common Name</th>\n",
       "      <th>Group</th>\n",
       "      <th>Region</th>\n",
       "      <th>Federal Listing Status</th>\n",
       "      <th>VIP</th>\n",
       "      <th>State</th>\n",
       "    </tr>\n",
       "  </thead>\n",
       "  <tbody>\n",
       "    <tr>\n",
       "      <th>0</th>\n",
       "      <td>Accipiter gentilis</td>\n",
       "      <td>Northern goshawk</td>\n",
       "      <td>Birds</td>\n",
       "      <td>2</td>\n",
       "      <td>Not Listed</td>\n",
       "      <td>V</td>\n",
       "      <td>AL</td>\n",
       "    </tr>\n",
       "    <tr>\n",
       "      <th>1</th>\n",
       "      <td>Acipenser fulvescens</td>\n",
       "      <td>Lake sturgeon</td>\n",
       "      <td>Fishes</td>\n",
       "      <td>3</td>\n",
       "      <td>Not Listed</td>\n",
       "      <td>V</td>\n",
       "      <td>AL</td>\n",
       "    </tr>\n",
       "    <tr>\n",
       "      <th>2</th>\n",
       "      <td>Acipenser oxyrinchus (=oxyrhynchus) desotoi</td>\n",
       "      <td>Atlantic sturgeon (Gulf subspecies)</td>\n",
       "      <td>Fishes</td>\n",
       "      <td>4</td>\n",
       "      <td>Threatened</td>\n",
       "      <td>V</td>\n",
       "      <td>AL</td>\n",
       "    </tr>\n",
       "    <tr>\n",
       "      <th>3</th>\n",
       "      <td>Agarodes alabamensis</td>\n",
       "      <td>[Unnamed] caddisfly</td>\n",
       "      <td>Insects</td>\n",
       "      <td>4</td>\n",
       "      <td>Not Listed</td>\n",
       "      <td>I</td>\n",
       "      <td>AL</td>\n",
       "    </tr>\n",
       "    <tr>\n",
       "      <th>4</th>\n",
       "      <td>Agrimonia incisa</td>\n",
       "      <td>Incised groovebur</td>\n",
       "      <td>Flowering Plants</td>\n",
       "      <td>4</td>\n",
       "      <td>Not Listed</td>\n",
       "      <td>P</td>\n",
       "      <td>AL</td>\n",
       "    </tr>\n",
       "  </tbody>\n",
       "</table>\n",
       "</div>"
      ],
      "text/plain": [
       "                               Scientific Name  \\\n",
       "0                           Accipiter gentilis   \n",
       "1                         Acipenser fulvescens   \n",
       "2  Acipenser oxyrinchus (=oxyrhynchus) desotoi   \n",
       "3                         Agarodes alabamensis   \n",
       "4                             Agrimonia incisa   \n",
       "\n",
       "                           Common Name             Group Region  \\\n",
       "0                     Northern goshawk             Birds      2   \n",
       "1                        Lake sturgeon            Fishes      3   \n",
       "2  Atlantic sturgeon (Gulf subspecies)            Fishes      4   \n",
       "3                  [Unnamed] caddisfly           Insects      4   \n",
       "4                    Incised groovebur  Flowering Plants      4   \n",
       "\n",
       "  Federal Listing Status VIP State  \n",
       "0             Not Listed   V    AL  \n",
       "1             Not Listed   V    AL  \n",
       "2             Threatened   V    AL  \n",
       "3             Not Listed   I    AL  \n",
       "4             Not Listed   P    AL  "
      ]
     },
     "execution_count": 21,
     "metadata": {},
     "output_type": "execute_result"
    }
   ],
   "source": [
    "species.head()"
   ]
  },
  {
   "cell_type": "code",
   "execution_count": 35,
   "metadata": {},
   "outputs": [
    {
     "data": {
      "text/html": [
       "<div>\n",
       "<style scoped>\n",
       "    .dataframe tbody tr th:only-of-type {\n",
       "        vertical-align: middle;\n",
       "    }\n",
       "\n",
       "    .dataframe tbody tr th {\n",
       "        vertical-align: top;\n",
       "    }\n",
       "\n",
       "    .dataframe thead th {\n",
       "        text-align: right;\n",
       "    }\n",
       "</style>\n",
       "<table border=\"1\" class=\"dataframe\">\n",
       "  <thead>\n",
       "    <tr style=\"text-align: right;\">\n",
       "      <th></th>\n",
       "      <th>Group_Amphibians</th>\n",
       "      <th>Group_Annelid Worms</th>\n",
       "      <th>Group_Arachnids</th>\n",
       "      <th>Group_Birds</th>\n",
       "      <th>Group_Clams</th>\n",
       "      <th>Group_Conifers and Cycads</th>\n",
       "      <th>Group_Corals</th>\n",
       "      <th>Group_Crustaceans</th>\n",
       "      <th>Group_Ferns and Allies</th>\n",
       "      <th>Group_Fishes</th>\n",
       "      <th>...</th>\n",
       "      <th>State_SD</th>\n",
       "      <th>State_TN</th>\n",
       "      <th>State_TX</th>\n",
       "      <th>State_UT</th>\n",
       "      <th>State_VA</th>\n",
       "      <th>State_VT</th>\n",
       "      <th>State_WA</th>\n",
       "      <th>State_WI</th>\n",
       "      <th>State_WV</th>\n",
       "      <th>State_WY</th>\n",
       "    </tr>\n",
       "    <tr>\n",
       "      <th>Federal Listing Status</th>\n",
       "      <th></th>\n",
       "      <th></th>\n",
       "      <th></th>\n",
       "      <th></th>\n",
       "      <th></th>\n",
       "      <th></th>\n",
       "      <th></th>\n",
       "      <th></th>\n",
       "      <th></th>\n",
       "      <th></th>\n",
       "      <th></th>\n",
       "      <th></th>\n",
       "      <th></th>\n",
       "      <th></th>\n",
       "      <th></th>\n",
       "      <th></th>\n",
       "      <th></th>\n",
       "      <th></th>\n",
       "      <th></th>\n",
       "      <th></th>\n",
       "      <th></th>\n",
       "    </tr>\n",
       "  </thead>\n",
       "  <tbody>\n",
       "    <tr>\n",
       "      <th>Endangered</th>\n",
       "      <td>23.0</td>\n",
       "      <td>0.0</td>\n",
       "      <td>14.0</td>\n",
       "      <td>140.0</td>\n",
       "      <td>344.0</td>\n",
       "      <td>2.0</td>\n",
       "      <td>0.0</td>\n",
       "      <td>28.0</td>\n",
       "      <td>31.0</td>\n",
       "      <td>164.0</td>\n",
       "      <td>...</td>\n",
       "      <td>9.0</td>\n",
       "      <td>85.0</td>\n",
       "      <td>79.0</td>\n",
       "      <td>22.0</td>\n",
       "      <td>54.0</td>\n",
       "      <td>4.0</td>\n",
       "      <td>15.0</td>\n",
       "      <td>15.0</td>\n",
       "      <td>22.0</td>\n",
       "      <td>9.0</td>\n",
       "    </tr>\n",
       "    <tr>\n",
       "      <th>Not Listed</th>\n",
       "      <td>103.0</td>\n",
       "      <td>4.0</td>\n",
       "      <td>36.0</td>\n",
       "      <td>432.0</td>\n",
       "      <td>108.0</td>\n",
       "      <td>16.0</td>\n",
       "      <td>0.0</td>\n",
       "      <td>190.0</td>\n",
       "      <td>122.0</td>\n",
       "      <td>467.0</td>\n",
       "      <td>...</td>\n",
       "      <td>31.0</td>\n",
       "      <td>225.0</td>\n",
       "      <td>420.0</td>\n",
       "      <td>384.0</td>\n",
       "      <td>178.0</td>\n",
       "      <td>35.0</td>\n",
       "      <td>180.0</td>\n",
       "      <td>75.0</td>\n",
       "      <td>99.0</td>\n",
       "      <td>111.0</td>\n",
       "    </tr>\n",
       "    <tr>\n",
       "      <th>Threatened</th>\n",
       "      <td>17.0</td>\n",
       "      <td>0.0</td>\n",
       "      <td>0.0</td>\n",
       "      <td>109.0</td>\n",
       "      <td>45.0</td>\n",
       "      <td>2.0</td>\n",
       "      <td>2.0</td>\n",
       "      <td>8.0</td>\n",
       "      <td>5.0</td>\n",
       "      <td>102.0</td>\n",
       "      <td>...</td>\n",
       "      <td>6.0</td>\n",
       "      <td>23.0</td>\n",
       "      <td>22.0</td>\n",
       "      <td>20.0</td>\n",
       "      <td>22.0</td>\n",
       "      <td>4.0</td>\n",
       "      <td>28.0</td>\n",
       "      <td>11.0</td>\n",
       "      <td>8.0</td>\n",
       "      <td>10.0</td>\n",
       "    </tr>\n",
       "  </tbody>\n",
       "</table>\n",
       "<p>3 rows × 82 columns</p>\n",
       "</div>"
      ],
      "text/plain": [
       "                        Group_Amphibians  Group_Annelid Worms  \\\n",
       "Federal Listing Status                                          \n",
       "Endangered                          23.0                  0.0   \n",
       "Not Listed                         103.0                  4.0   \n",
       "Threatened                          17.0                  0.0   \n",
       "\n",
       "                        Group_Arachnids  Group_Birds  Group_Clams  \\\n",
       "Federal Listing Status                                              \n",
       "Endangered                         14.0        140.0        344.0   \n",
       "Not Listed                         36.0        432.0        108.0   \n",
       "Threatened                          0.0        109.0         45.0   \n",
       "\n",
       "                        Group_Conifers and Cycads  Group_Corals  \\\n",
       "Federal Listing Status                                            \n",
       "Endangered                                    2.0           0.0   \n",
       "Not Listed                                   16.0           0.0   \n",
       "Threatened                                    2.0           2.0   \n",
       "\n",
       "                        Group_Crustaceans  Group_Ferns and Allies  \\\n",
       "Federal Listing Status                                              \n",
       "Endangered                           28.0                    31.0   \n",
       "Not Listed                          190.0                   122.0   \n",
       "Threatened                            8.0                     5.0   \n",
       "\n",
       "                        Group_Fishes    ...     State_SD  State_TN  State_TX  \\\n",
       "Federal Listing Status                  ...                                    \n",
       "Endangered                     164.0    ...          9.0      85.0      79.0   \n",
       "Not Listed                     467.0    ...         31.0     225.0     420.0   \n",
       "Threatened                     102.0    ...          6.0      23.0      22.0   \n",
       "\n",
       "                        State_UT  State_VA  State_VT  State_WA  State_WI  \\\n",
       "Federal Listing Status                                                     \n",
       "Endangered                  22.0      54.0       4.0      15.0      15.0   \n",
       "Not Listed                 384.0     178.0      35.0     180.0      75.0   \n",
       "Threatened                  20.0      22.0       4.0      28.0      11.0   \n",
       "\n",
       "                        State_WV  State_WY  \n",
       "Federal Listing Status                      \n",
       "Endangered                  22.0       9.0  \n",
       "Not Listed                  99.0     111.0  \n",
       "Threatened                   8.0      10.0  \n",
       "\n",
       "[3 rows x 82 columns]"
      ]
     },
     "execution_count": 35,
     "metadata": {},
     "output_type": "execute_result"
    }
   ],
   "source": [
    "species.groupby('Federal Listing Status').sum()"
   ]
  },
  {
   "cell_type": "markdown",
   "metadata": {},
   "source": [
    "# Feature Engineering"
   ]
  },
  {
   "cell_type": "code",
   "execution_count": 22,
   "metadata": {
    "scrolled": false
   },
   "outputs": [
    {
     "name": "stdout",
     "output_type": "stream",
     "text": [
      "(11737, 85)\n"
     ]
    },
    {
     "data": {
      "text/html": [
       "<div>\n",
       "<style scoped>\n",
       "    .dataframe tbody tr th:only-of-type {\n",
       "        vertical-align: middle;\n",
       "    }\n",
       "\n",
       "    .dataframe tbody tr th {\n",
       "        vertical-align: top;\n",
       "    }\n",
       "\n",
       "    .dataframe thead th {\n",
       "        text-align: right;\n",
       "    }\n",
       "</style>\n",
       "<table border=\"1\" class=\"dataframe\">\n",
       "  <thead>\n",
       "    <tr style=\"text-align: right;\">\n",
       "      <th></th>\n",
       "      <th>Scientific Name</th>\n",
       "      <th>Common Name</th>\n",
       "      <th>Federal Listing Status</th>\n",
       "      <th>Group_Amphibians</th>\n",
       "      <th>Group_Annelid Worms</th>\n",
       "      <th>Group_Arachnids</th>\n",
       "      <th>Group_Birds</th>\n",
       "      <th>Group_Clams</th>\n",
       "      <th>Group_Conifers and Cycads</th>\n",
       "      <th>Group_Corals</th>\n",
       "      <th>...</th>\n",
       "      <th>State_SD</th>\n",
       "      <th>State_TN</th>\n",
       "      <th>State_TX</th>\n",
       "      <th>State_UT</th>\n",
       "      <th>State_VA</th>\n",
       "      <th>State_VT</th>\n",
       "      <th>State_WA</th>\n",
       "      <th>State_WI</th>\n",
       "      <th>State_WV</th>\n",
       "      <th>State_WY</th>\n",
       "    </tr>\n",
       "  </thead>\n",
       "  <tbody>\n",
       "    <tr>\n",
       "      <th>0</th>\n",
       "      <td>Accipiter gentilis</td>\n",
       "      <td>Northern goshawk</td>\n",
       "      <td>Not Listed</td>\n",
       "      <td>0</td>\n",
       "      <td>0</td>\n",
       "      <td>0</td>\n",
       "      <td>1</td>\n",
       "      <td>0</td>\n",
       "      <td>0</td>\n",
       "      <td>0</td>\n",
       "      <td>...</td>\n",
       "      <td>0</td>\n",
       "      <td>0</td>\n",
       "      <td>0</td>\n",
       "      <td>0</td>\n",
       "      <td>0</td>\n",
       "      <td>0</td>\n",
       "      <td>0</td>\n",
       "      <td>0</td>\n",
       "      <td>0</td>\n",
       "      <td>0</td>\n",
       "    </tr>\n",
       "    <tr>\n",
       "      <th>1</th>\n",
       "      <td>Acipenser fulvescens</td>\n",
       "      <td>Lake sturgeon</td>\n",
       "      <td>Not Listed</td>\n",
       "      <td>0</td>\n",
       "      <td>0</td>\n",
       "      <td>0</td>\n",
       "      <td>0</td>\n",
       "      <td>0</td>\n",
       "      <td>0</td>\n",
       "      <td>0</td>\n",
       "      <td>...</td>\n",
       "      <td>0</td>\n",
       "      <td>0</td>\n",
       "      <td>0</td>\n",
       "      <td>0</td>\n",
       "      <td>0</td>\n",
       "      <td>0</td>\n",
       "      <td>0</td>\n",
       "      <td>0</td>\n",
       "      <td>0</td>\n",
       "      <td>0</td>\n",
       "    </tr>\n",
       "    <tr>\n",
       "      <th>2</th>\n",
       "      <td>Acipenser oxyrinchus (=oxyrhynchus) desotoi</td>\n",
       "      <td>Atlantic sturgeon (Gulf subspecies)</td>\n",
       "      <td>Threatened</td>\n",
       "      <td>0</td>\n",
       "      <td>0</td>\n",
       "      <td>0</td>\n",
       "      <td>0</td>\n",
       "      <td>0</td>\n",
       "      <td>0</td>\n",
       "      <td>0</td>\n",
       "      <td>...</td>\n",
       "      <td>0</td>\n",
       "      <td>0</td>\n",
       "      <td>0</td>\n",
       "      <td>0</td>\n",
       "      <td>0</td>\n",
       "      <td>0</td>\n",
       "      <td>0</td>\n",
       "      <td>0</td>\n",
       "      <td>0</td>\n",
       "      <td>0</td>\n",
       "    </tr>\n",
       "    <tr>\n",
       "      <th>3</th>\n",
       "      <td>Agarodes alabamensis</td>\n",
       "      <td>[Unnamed] caddisfly</td>\n",
       "      <td>Not Listed</td>\n",
       "      <td>0</td>\n",
       "      <td>0</td>\n",
       "      <td>0</td>\n",
       "      <td>0</td>\n",
       "      <td>0</td>\n",
       "      <td>0</td>\n",
       "      <td>0</td>\n",
       "      <td>...</td>\n",
       "      <td>0</td>\n",
       "      <td>0</td>\n",
       "      <td>0</td>\n",
       "      <td>0</td>\n",
       "      <td>0</td>\n",
       "      <td>0</td>\n",
       "      <td>0</td>\n",
       "      <td>0</td>\n",
       "      <td>0</td>\n",
       "      <td>0</td>\n",
       "    </tr>\n",
       "    <tr>\n",
       "      <th>4</th>\n",
       "      <td>Agrimonia incisa</td>\n",
       "      <td>Incised groovebur</td>\n",
       "      <td>Not Listed</td>\n",
       "      <td>0</td>\n",
       "      <td>0</td>\n",
       "      <td>0</td>\n",
       "      <td>0</td>\n",
       "      <td>0</td>\n",
       "      <td>0</td>\n",
       "      <td>0</td>\n",
       "      <td>...</td>\n",
       "      <td>0</td>\n",
       "      <td>0</td>\n",
       "      <td>0</td>\n",
       "      <td>0</td>\n",
       "      <td>0</td>\n",
       "      <td>0</td>\n",
       "      <td>0</td>\n",
       "      <td>0</td>\n",
       "      <td>0</td>\n",
       "      <td>0</td>\n",
       "    </tr>\n",
       "  </tbody>\n",
       "</table>\n",
       "<p>5 rows × 85 columns</p>\n",
       "</div>"
      ],
      "text/plain": [
       "                               Scientific Name  \\\n",
       "0                           Accipiter gentilis   \n",
       "1                         Acipenser fulvescens   \n",
       "2  Acipenser oxyrinchus (=oxyrhynchus) desotoi   \n",
       "3                         Agarodes alabamensis   \n",
       "4                             Agrimonia incisa   \n",
       "\n",
       "                           Common Name Federal Listing Status  \\\n",
       "0                     Northern goshawk             Not Listed   \n",
       "1                        Lake sturgeon             Not Listed   \n",
       "2  Atlantic sturgeon (Gulf subspecies)             Threatened   \n",
       "3                  [Unnamed] caddisfly             Not Listed   \n",
       "4                    Incised groovebur             Not Listed   \n",
       "\n",
       "   Group_Amphibians  Group_Annelid Worms  Group_Arachnids  Group_Birds  \\\n",
       "0                 0                    0                0            1   \n",
       "1                 0                    0                0            0   \n",
       "2                 0                    0                0            0   \n",
       "3                 0                    0                0            0   \n",
       "4                 0                    0                0            0   \n",
       "\n",
       "   Group_Clams  Group_Conifers and Cycads  Group_Corals    ...     State_SD  \\\n",
       "0            0                          0             0    ...            0   \n",
       "1            0                          0             0    ...            0   \n",
       "2            0                          0             0    ...            0   \n",
       "3            0                          0             0    ...            0   \n",
       "4            0                          0             0    ...            0   \n",
       "\n",
       "   State_TN  State_TX  State_UT  State_VA  State_VT  State_WA  State_WI  \\\n",
       "0         0         0         0         0         0         0         0   \n",
       "1         0         0         0         0         0         0         0   \n",
       "2         0         0         0         0         0         0         0   \n",
       "3         0         0         0         0         0         0         0   \n",
       "4         0         0         0         0         0         0         0   \n",
       "\n",
       "   State_WV  State_WY  \n",
       "0         0         0  \n",
       "1         0         0  \n",
       "2         0         0  \n",
       "3         0         0  \n",
       "4         0         0  \n",
       "\n",
       "[5 rows x 85 columns]"
      ]
     },
     "execution_count": 22,
     "metadata": {},
     "output_type": "execute_result"
    }
   ],
   "source": [
    "#create dummy variables\n",
    "species = pd.get_dummies(data=species, columns=['Group', 'Region', 'VIP', 'State'])\n",
    "print(species.shape)\n",
    "species.head()"
   ]
  },
  {
   "cell_type": "code",
   "execution_count": 23,
   "metadata": {},
   "outputs": [],
   "source": [
    "# Create target and feature variables\n",
    "y = species['Federal Listing Status']\n",
    "X = species.drop(['Federal Listing Status', 'Scientific Name', 'Common Name'], axis = 1)"
   ]
  },
  {
   "cell_type": "code",
   "execution_count": 57,
   "metadata": {},
   "outputs": [
    {
     "name": "stdout",
     "output_type": "stream",
     "text": [
      "Federal Listing Status\n",
      "Endangered    1899\n",
      "Not Listed    9040\n",
      "Threatened     798\n",
      "Name: Federal Listing Status, dtype: int64\n",
      "Endangered: 0.16179602964982534\n",
      "Not Listed: 0.7702138536252876\n",
      "Threatened: 0.06799011672488711\n"
     ]
    },
    {
     "data": {
      "text/plain": [
       "<matplotlib.axes._subplots.AxesSubplot at 0x1a217940f0>"
      ]
     },
     "execution_count": 57,
     "metadata": {},
     "output_type": "execute_result"
    },
    {
     "data": {
      "image/png": "[encoded data removed]",
      "text/plain": [
       "<Figure size 720x432 with 1 Axes>"
      ]
     },
     "metadata": {},
     "output_type": "display_data"
    }
   ],
   "source": [
    "# federal listing status\n",
    "print(species.groupby('Federal Listing Status')['Federal Listing Status'].count())\n",
    "print('Endangered: ' + str((species['Federal Listing Status'] == 'Endangered').sum() / species.shape[0]))\n",
    "print('Not Listed: ' + str((species['Federal Listing Status'] == 'Not Listed').sum() / species.shape[0]))\n",
    "print('Threatened: ' + str((species['Federal Listing Status'] == 'Threatened').sum() / species.shape[0]))\n",
    "\n",
    "# plot class imbalance\n",
    "fig, ax = plt.subplots(figsize=(10,6))\n",
    "sns.countplot(species['Federal Listing Status'], alpha=0.8)"
   ]
  },
  {
   "cell_type": "markdown",
   "metadata": {},
   "source": [
    "# Data Scaling"
   ]
  },
  {
   "cell_type": "code",
   "execution_count": 24,
   "metadata": {},
   "outputs": [],
   "source": [
    "from sklearn.model_selection import train_test_split"
   ]
  },
  {
   "cell_type": "code",
   "execution_count": 25,
   "metadata": {},
   "outputs": [
    {
     "name": "stdout",
     "output_type": "stream",
     "text": [
      "Test Data\n",
      "Endangered: 0.17120954003407154\n",
      "Not Listed: 0.7640545144804088\n",
      "Threatened: 0.06473594548551959\n"
     ]
    }
   ],
   "source": [
    "# setting up testing and training sets\n",
    "X_train, X_test, y_train, y_test = train_test_split(X, y, test_size=0.20)\n",
    "\n",
    "# federal listing status\n",
    "print('Test Data')\n",
    "print('Endangered: ' + str((y_test == 'Endangered').sum() / y_test.count()))\n",
    "print('Not Listed: ' + str((y_test == 'Not Listed').sum() / y_test.count()))\n",
    "print('Threatened: ' + str((y_test == 'Threatened').sum() / y_test.count()))"
   ]
  },
  {
   "cell_type": "markdown",
   "metadata": {},
   "source": [
    "# Class Imbalance"
   ]
  },
  {
   "cell_type": "code",
   "execution_count": 47,
   "metadata": {},
   "outputs": [],
   "source": [
    "from sklearn.dummy import DummyClassifier\n",
    "from sklearn.linear_model import LogisticRegression\n",
    "from sklearn.metrics import accuracy_score, f1_score\n",
    "from imblearn.over_sampling import SMOTE\n",
    "import numpy as np"
   ]
  },
  {
   "cell_type": "code",
   "execution_count": 27,
   "metadata": {
    "scrolled": true
   },
   "outputs": [
    {
     "name": "stdout",
     "output_type": "stream",
     "text": [
      "Train Accuracy score:  0.7717541804239003\n",
      "Train F1 score:  0.6723331279052096\n",
      "Test Accuracy score:  0.7640545144804088\n",
      "Test F1 score:  0.6618608396802769\n"
     ]
    },
    {
     "name": "stderr",
     "output_type": "stream",
     "text": [
      "/anaconda3/lib/python3.7/site-packages/sklearn/metrics/classification.py:1143: UndefinedMetricWarning: F-score is ill-defined and being set to 0.0 in labels with no predicted samples.\n",
      "  'precision', 'predicted', average, warn_for)\n",
      "/anaconda3/lib/python3.7/site-packages/sklearn/metrics/classification.py:1143: UndefinedMetricWarning: F-score is ill-defined and being set to 0.0 in labels with no predicted samples.\n",
      "  'precision', 'predicted', average, warn_for)\n"
     ]
    }
   ],
   "source": [
    "# DummyClassifier to predict majority class\n",
    "dummy = DummyClassifier(strategy='most_frequent').fit(X_train, y_train)\n",
    "dummy_pred_train = dummy.predict(X_train)\n",
    "dummy_pred_test = dummy.predict(X_test)\n",
    "\n",
    "# checking training metrics\n",
    "print('Train Accuracy score: ', accuracy_score(y_train, dummy_pred_train))\n",
    "print('Train F1 score: ', f1_score(y_train, dummy_pred_train, average='weighted'))\n",
    "\n",
    "# checking test metrics\n",
    "print('Test Accuracy score: ', accuracy_score(y_test, dummy_pred_test))\n",
    "print('Test F1 score: ', f1_score(y_test, dummy_pred_test, average='weighted'))"
   ]
  },
  {
   "cell_type": "code",
   "execution_count": 28,
   "metadata": {},
   "outputs": [
    {
     "name": "stdout",
     "output_type": "stream",
     "text": [
      "Train Accuracy score:  0.8097773990840345\n",
      "Train F1 score:  0.7674212416272476\n",
      "Test Accuracy score:  0.8015332197614992\n",
      "Test F1 score:  0.7568932885591846\n"
     ]
    },
    {
     "name": "stderr",
     "output_type": "stream",
     "text": [
      "/anaconda3/lib/python3.7/site-packages/sklearn/linear_model/logistic.py:460: FutureWarning: Default multi_class will be changed to 'auto' in 0.22. Specify the multi_class option to silence this warning.\n",
      "  \"this warning.\", FutureWarning)\n"
     ]
    }
   ],
   "source": [
    "log_reg_clf = LogisticRegression(solver='liblinear')\n",
    "log_reg_clf.fit(X_train, y_train)\n",
    "y_pred_train = log_reg_clf.predict(X_train)\n",
    "y_pred_test = log_reg_clf.predict(X_test)\n",
    "\n",
    "# checking training metrics\n",
    "print('Train Accuracy score: ', accuracy_score(y_train, y_pred_train))\n",
    "print('Train F1 score: ', f1_score(y_train, y_pred_train, average='weighted'))\n",
    "\n",
    "# checking test metrics\n",
    "print('Test Accuracy score: ', accuracy_score(y_test, y_pred_test))\n",
    "print('Test F1 score: ', f1_score(y_test, y_pred_test, average='weighted'))"
   ]
  },
  {
   "cell_type": "code",
   "execution_count": 62,
   "metadata": {
    "scrolled": false
   },
   "outputs": [
    {
     "name": "stdout",
     "output_type": "stream",
     "text": [
      "9389\n",
      "Endangered: 0.15944190009585685\n",
      "Not Listed: 0.7717541804239003\n",
      "Threatened: 0.06880391948024284\n"
     ]
    },
    {
     "data": {
      "text/plain": [
       "<matplotlib.axes._subplots.AxesSubplot at 0x1a228e64e0>"
      ]
     },
     "execution_count": 62,
     "metadata": {},
     "output_type": "execute_result"
    },
    {
     "data": {
      "image/png": "[encoded data removed]",
      "text/plain": [
       "<Figure size 720x432 with 1 Axes>"
      ]
     },
     "metadata": {},
     "output_type": "display_data"
    }
   ],
   "source": [
    "# federal listing status\n",
    "print(y_train.count())\n",
    "print('Endangered: ' + str((y_train == 'Endangered').sum() / y_train.count()))\n",
    "print('Not Listed: ' + str((y_train == 'Not Listed').sum() / y_train.count()))\n",
    "print('Threatened: ' + str((y_train == 'Threatened').sum() / y_train.count()))\n",
    "\n",
    "# plot class imbalance\n",
    "fig, ax = plt.subplots(figsize=(10,6))\n",
    "sns.countplot(y_train, alpha=0.8)"
   ]
  },
  {
   "cell_type": "code",
   "execution_count": 60,
   "metadata": {},
   "outputs": [
    {
     "data": {
      "text/plain": [
       "{'Not Listed': 7246, 'Endangered': 7246, 'Threatened': 7246}"
      ]
     },
     "execution_count": 60,
     "metadata": {},
     "output_type": "execute_result"
    }
   ],
   "source": [
    "keys = list(y_train.unique())\n",
    "values = np.ones((3), dtype=int) * (y_train == 'Not Listed').sum()\n",
    "sample_ratio = dict(zip(keys, values))\n",
    "sample_ratio"
   ]
  },
  {
   "cell_type": "code",
   "execution_count": 66,
   "metadata": {},
   "outputs": [
    {
     "name": "stdout",
     "output_type": "stream",
     "text": [
      "21738\n",
      "Endangered: 0.3333333333333333\n",
      "Not Listed: 0.3333333333333333\n",
      "Threatened: 0.3333333333333333\n"
     ]
    },
    {
     "data": {
      "text/plain": [
       "<matplotlib.axes._subplots.AxesSubplot at 0x1a22ba7b38>"
      ]
     },
     "execution_count": 66,
     "metadata": {},
     "output_type": "execute_result"
    },
    {
     "data": {
      "image/png": "[encoded data removed]",
      "text/plain": [
       "<Figure size 720x432 with 1 Axes>"
      ]
     },
     "metadata": {},
     "output_type": "display_data"
    }
   ],
   "source": [
    "species['Federal Listing Status'].unique()\n",
    "\n",
    "sm = SMOTE(ratio=sample_ratio)\n",
    "X_train_sm, y_train_sm = sm.fit_sample(X_train, y_train)\n",
    "\n",
    "# federal listing status\n",
    "print(len(y_train_sm))\n",
    "print('Endangered: ' + str((y_train_sm == 'Endangered').sum() / len(y_train_sm)))\n",
    "print('Not Listed: ' + str((y_train_sm == 'Not Listed').sum() / len(y_train_sm)))\n",
    "print('Threatened: ' + str((y_train_sm == 'Threatened').sum() / len(y_train_sm)))\n",
    "\n",
    "# plot class imbalance\n",
    "fig, ax = plt.subplots(figsize=(10,6))\n",
    "sns.countplot(y_train_sm, alpha=0.8)"
   ]
  },
  {
   "cell_type": "code",
   "execution_count": 72,
   "metadata": {},
   "outputs": [
    {
     "name": "stdout",
     "output_type": "stream",
     "text": [
      "Train Accuracy score:  0.3333333333333333\n",
      "Train F1 score:  0.16666666666666666\n",
      "Test Accuracy score:  0.7640545144804088\n",
      "Test F1 score:  0.6618608396802769\n"
     ]
    },
    {
     "name": "stderr",
     "output_type": "stream",
     "text": [
      "/anaconda3/lib/python3.7/site-packages/sklearn/metrics/classification.py:1143: UndefinedMetricWarning: F-score is ill-defined and being set to 0.0 in labels with no predicted samples.\n",
      "  'precision', 'predicted', average, warn_for)\n",
      "/anaconda3/lib/python3.7/site-packages/sklearn/metrics/classification.py:1143: UndefinedMetricWarning: F-score is ill-defined and being set to 0.0 in labels with no predicted samples.\n",
      "  'precision', 'predicted', average, warn_for)\n"
     ]
    }
   ],
   "source": [
    "# DummyClassifier to predict majority class\n",
    "dummy = DummyClassifier(strategy='most_frequent').fit(X_train, y_train)\n",
    "dummy_pred_train_sm = dummy.predict(X_train_sm)\n",
    "dummy_pred_test = dummy.predict(X_test)\n",
    "\n",
    "# checking training metrics\n",
    "print('Train Accuracy score: ', accuracy_score(y_train_sm, dummy_pred_train_sm))\n",
    "print('Train F1 score: ', f1_score(y_train_sm, dummy_pred_train_sm, average='weighted'))\n",
    "\n",
    "# checking test metrics\n",
    "print('Test Accuracy score: ', accuracy_score(y_test, dummy_pred_test))\n",
    "print('Test F1 score: ', f1_score(y_test, dummy_pred_test, average='weighted'))"
   ]
  },
  {
   "cell_type": "code",
   "execution_count": 71,
   "metadata": {},
   "outputs": [
    {
     "name": "stderr",
     "output_type": "stream",
     "text": [
      "/anaconda3/lib/python3.7/site-packages/sklearn/linear_model/logistic.py:460: FutureWarning: Default multi_class will be changed to 'auto' in 0.22. Specify the multi_class option to silence this warning.\n",
      "  \"this warning.\", FutureWarning)\n"
     ]
    },
    {
     "name": "stdout",
     "output_type": "stream",
     "text": [
      "Train Accuracy score:  0.6645965590210691\n",
      "Train F1 score:  0.6590955197669709\n",
      "Test Accuracy score:  0.7299829642248722\n",
      "Test F1 score:  0.7412810813432027\n"
     ]
    },
    {
     "name": "stderr",
     "output_type": "stream",
     "text": [
      "/anaconda3/lib/python3.7/site-packages/sklearn/svm/base.py:922: ConvergenceWarning: Liblinear failed to converge, increase the number of iterations.\n",
      "  \"the number of iterations.\", ConvergenceWarning)\n"
     ]
    }
   ],
   "source": [
    "log_reg_clf = LogisticRegression(solver='liblinear')\n",
    "log_reg_clf.fit(X_train_sm, y_train_sm)\n",
    "y_pred_train_sm = log_reg_clf.predict(X_train_sm)\n",
    "y_pred_test = log_reg_clf.predict(X_test)\n",
    "\n",
    "# checking training metrics\n",
    "print('Train Accuracy score: ', accuracy_score(y_train_sm, y_pred_train_sm))\n",
    "print('Train F1 score: ', f1_score(y_train_sm, y_pred_train_sm, average='weighted'))\n",
    "\n",
    "# checking test metrics\n",
    "print('Test Accuracy score: ', accuracy_score(y_test, y_pred_test))\n",
    "print('Test F1 score: ', f1_score(y_test, y_pred_test, average='weighted'))"
   ]
  },
  {
   "cell_type": "markdown",
   "metadata": {},
   "source": [
    "# Model Fitting"
   ]
  },
  {
   "cell_type": "code",
   "execution_count": 30,
   "metadata": {},
   "outputs": [],
   "source": [
    "from sklearn.linear_model import LogisticRegression\n",
    "regr = LogisticRegression(C=1e12)"
   ]
  },
  {
   "cell_type": "markdown",
   "metadata": {},
   "source": [
    "# Model Evaluation"
   ]
  },
  {
   "cell_type": "code",
   "execution_count": null,
   "metadata": {},
   "outputs": [],
   "source": []
  }
 ],
 "metadata": {
  "kernelspec": {
   "display_name": "Python 3",
   "language": "python",
   "name": "python3"
  },
  "language_info": {
   "codemirror_mode": {
    "name": "ipython",
    "version": 3
   },
   "file_extension": ".py",
   "mimetype": "text/x-python",
   "name": "python",
   "nbconvert_exporter": "python",
   "pygments_lexer": "ipython3",
   "version": "3.7.1"
  }
 },
 "nbformat": 4,
 "nbformat_minor": 2
}
