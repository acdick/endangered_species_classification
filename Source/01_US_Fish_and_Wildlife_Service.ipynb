{
 "cells": [
  {
   "cell_type": "markdown",
   "metadata": {},
   "source": [
    "# U.S. Fish & Wildlife Service"
   ]
  },
  {
   "cell_type": "code",
   "execution_count": 1,
   "metadata": {},
   "outputs": [],
   "source": [
    "import pandas as pd\n",
    "import missingno as msno"
   ]
  },
  {
   "cell_type": "markdown",
   "metadata": {},
   "source": [
    "### Data Gathering"
   ]
  },
  {
   "cell_type": "code",
   "execution_count": 2,
   "metadata": {
    "scrolled": false
   },
   "outputs": [
    {
     "name": "stdout",
     "output_type": "stream",
     "text": [
      "(9612, 15)\n"
     ]
    },
    {
     "data": {
      "text/html": [
       "<div>\n",
       "<style scoped>\n",
       "    .dataframe tbody tr th:only-of-type {\n",
       "        vertical-align: middle;\n",
       "    }\n",
       "\n",
       "    .dataframe tbody tr th {\n",
       "        vertical-align: top;\n",
       "    }\n",
       "\n",
       "    .dataframe thead th {\n",
       "        text-align: right;\n",
       "    }\n",
       "</style>\n",
       "<table border=\"1\" class=\"dataframe\">\n",
       "  <thead>\n",
       "    <tr style=\"text-align: right;\">\n",
       "      <th></th>\n",
       "      <th>Scientific Name</th>\n",
       "      <th>Common Name</th>\n",
       "      <th>Inverted Common Name</th>\n",
       "      <th>Species Code</th>\n",
       "      <th>Population Code</th>\n",
       "      <th>CurrentDistribution</th>\n",
       "      <th>Family</th>\n",
       "      <th>First Listed</th>\n",
       "      <th>Species Group</th>\n",
       "      <th>Lead Region</th>\n",
       "      <th>Federal Listing Status</th>\n",
       "      <th>Regions ofOccurrence</th>\n",
       "      <th>U.S. or ForeignListed</th>\n",
       "      <th>Vertebrate/Invertebrate/Plant</th>\n",
       "      <th>Where Listed</th>\n",
       "    </tr>\n",
       "  </thead>\n",
       "  <tbody>\n",
       "    <tr>\n",
       "      <th>0</th>\n",
       "      <td>Abies fraseri</td>\n",
       "      <td>Fraser fir</td>\n",
       "      <td>Fir, Fraser</td>\n",
       "      <td>R00B</td>\n",
       "      <td>P01</td>\n",
       "      <td>NC, VA;</td>\n",
       "      <td>Pinaceae</td>\n",
       "      <td>NaN</td>\n",
       "      <td>Conifers and Cycads</td>\n",
       "      <td>4</td>\n",
       "      <td>Not Listed</td>\n",
       "      <td>4, 5</td>\n",
       "      <td>US</td>\n",
       "      <td>P</td>\n",
       "      <td>Wherever found</td>\n",
       "    </tr>\n",
       "    <tr>\n",
       "      <th>1</th>\n",
       "      <td>Abies guatemalensis</td>\n",
       "      <td>Guatemalan Fir (=pinabete)</td>\n",
       "      <td>Fir, Guatemalan (=pinabete)</td>\n",
       "      <td>R003</td>\n",
       "      <td>P01</td>\n",
       "      <td>Mexico, Honduras, Guatemala, El Salvador</td>\n",
       "      <td>Pinaceae</td>\n",
       "      <td>Dec 10, 1979</td>\n",
       "      <td>Conifers and Cycads</td>\n",
       "      <td>Foreign</td>\n",
       "      <td>Threatened</td>\n",
       "      <td>NaN</td>\n",
       "      <td>Foreign</td>\n",
       "      <td>P</td>\n",
       "      <td>Wherever found</td>\n",
       "    </tr>\n",
       "    <tr>\n",
       "      <th>2</th>\n",
       "      <td>Ablautus schlingeri</td>\n",
       "      <td>Oso Flaco robber fly</td>\n",
       "      <td>Robber fly, Oso Flaco</td>\n",
       "      <td>I0O3</td>\n",
       "      <td>I01</td>\n",
       "      <td>CA;</td>\n",
       "      <td>Asilidae</td>\n",
       "      <td>NaN</td>\n",
       "      <td>Insects</td>\n",
       "      <td>1</td>\n",
       "      <td>Not Listed</td>\n",
       "      <td>8</td>\n",
       "      <td>US</td>\n",
       "      <td>I</td>\n",
       "      <td>Wherever found</td>\n",
       "    </tr>\n",
       "    <tr>\n",
       "      <th>3</th>\n",
       "      <td>Abronia alpina</td>\n",
       "      <td>Ramshaw Meadows sand-verbena</td>\n",
       "      <td>Sand-verbena, Ramshaw Meadows</td>\n",
       "      <td>Q009</td>\n",
       "      <td>P01</td>\n",
       "      <td>CA;</td>\n",
       "      <td>Nyctaginaceae</td>\n",
       "      <td>NaN</td>\n",
       "      <td>Flowering Plants</td>\n",
       "      <td>8</td>\n",
       "      <td>Not Listed</td>\n",
       "      <td>8</td>\n",
       "      <td>US</td>\n",
       "      <td>P</td>\n",
       "      <td>Wherever found</td>\n",
       "    </tr>\n",
       "    <tr>\n",
       "      <th>4</th>\n",
       "      <td>Abronia ammophila</td>\n",
       "      <td>Yellowstone Sand Verbena</td>\n",
       "      <td>Verbena Yellowstone Sand</td>\n",
       "      <td>Q3LO</td>\n",
       "      <td>P01</td>\n",
       "      <td>NaN</td>\n",
       "      <td>Nyctaginaceae</td>\n",
       "      <td>NaN</td>\n",
       "      <td>Flowering Plants</td>\n",
       "      <td>6</td>\n",
       "      <td>Not Listed</td>\n",
       "      <td>NaN</td>\n",
       "      <td>US</td>\n",
       "      <td>P</td>\n",
       "      <td>Wherever found</td>\n",
       "    </tr>\n",
       "  </tbody>\n",
       "</table>\n",
       "</div>"
      ],
      "text/plain": [
       "       Scientific Name                   Common Name  \\\n",
       "0        Abies fraseri                    Fraser fir   \n",
       "1  Abies guatemalensis    Guatemalan Fir (=pinabete)   \n",
       "2  Ablautus schlingeri          Oso Flaco robber fly   \n",
       "3       Abronia alpina  Ramshaw Meadows sand-verbena   \n",
       "4    Abronia ammophila      Yellowstone Sand Verbena   \n",
       "\n",
       "            Inverted Common Name Species Code Population Code  \\\n",
       "0                    Fir, Fraser         R00B             P01   \n",
       "1    Fir, Guatemalan (=pinabete)         R003             P01   \n",
       "2          Robber fly, Oso Flaco         I0O3             I01   \n",
       "3  Sand-verbena, Ramshaw Meadows         Q009             P01   \n",
       "4       Verbena Yellowstone Sand         Q3LO             P01   \n",
       "\n",
       "                        CurrentDistribution         Family  First Listed  \\\n",
       "0                                   NC, VA;       Pinaceae           NaN   \n",
       "1  Mexico, Honduras, Guatemala, El Salvador       Pinaceae  Dec 10, 1979   \n",
       "2                                       CA;       Asilidae           NaN   \n",
       "3                                       CA;  Nyctaginaceae           NaN   \n",
       "4                                       NaN  Nyctaginaceae           NaN   \n",
       "\n",
       "         Species Group Lead Region Federal Listing Status  \\\n",
       "0  Conifers and Cycads           4             Not Listed   \n",
       "1  Conifers and Cycads     Foreign             Threatened   \n",
       "2              Insects           1             Not Listed   \n",
       "3     Flowering Plants           8             Not Listed   \n",
       "4     Flowering Plants           6             Not Listed   \n",
       "\n",
       "  Regions ofOccurrence U.S. or ForeignListed Vertebrate/Invertebrate/Plant  \\\n",
       "0                 4, 5                    US                             P   \n",
       "1                  NaN               Foreign                             P   \n",
       "2                    8                    US                             I   \n",
       "3                    8                    US                             P   \n",
       "4                  NaN                    US                             P   \n",
       "\n",
       "     Where Listed  \n",
       "0  Wherever found  \n",
       "1  Wherever found  \n",
       "2  Wherever found  \n",
       "3  Wherever found  \n",
       "4  Wherever found  "
      ]
     },
     "execution_count": 2,
     "metadata": {},
     "output_type": "execute_result"
    }
   ],
   "source": [
    "# All plants and animals (9612 records, 15 columns)\n",
    "species = pd.read_html('../Data/fws.html', header=0)[0]\n",
    "print(species.shape)\n",
    "species.head()"
   ]
  },
  {
   "cell_type": "code",
   "execution_count": 3,
   "metadata": {},
   "outputs": [
    {
     "name": "stdout",
     "output_type": "stream",
     "text": [
      "Scientific Name                     0\n",
      "Common Name                         0\n",
      "Inverted Common Name                0\n",
      "Species Code                        0\n",
      "Population Code                     0\n",
      "CurrentDistribution               860\n",
      "Family                              0\n",
      "First Listed                     7088\n",
      "Species Group                       0\n",
      "Lead Region                        73\n",
      "Federal Listing Status              0\n",
      "Regions ofOccurrence             1550\n",
      "U.S. or ForeignListed              74\n",
      "Vertebrate/Invertebrate/Plant       0\n",
      "Where Listed                       22\n",
      "dtype: int64\n"
     ]
    },
    {
     "data": {
      "text/plain": [
       "<matplotlib.axes._subplots.AxesSubplot at 0x1a22079240>"
      ]
     },
     "execution_count": 3,
     "metadata": {},
     "output_type": "execute_result"
    },
    {
     "data": {
      "image/png": "[encoded data removed]",
      "text/plain": [
       "<Figure size 1800x720 with 2 Axes>"
      ]
     },
     "metadata": {
      "needs_background": "light"
     },
     "output_type": "display_data"
    }
   ],
   "source": [
    "# check species data for null values\n",
    "print(species.isnull().sum())\n",
    "\n",
    "# visualize null values\n",
    "msno.matrix(species)"
   ]
  },
  {
   "cell_type": "markdown",
   "metadata": {},
   "source": [
    "### Feature Consideration"
   ]
  },
  {
   "cell_type": "code",
   "execution_count": 4,
   "metadata": {
    "scrolled": true
   },
   "outputs": [
    {
     "name": "stdout",
     "output_type": "stream",
     "text": [
      "Scientific Name: 9318\n",
      "Common Name: 7129\n",
      "Inverted Common Name: 7108\n",
      "Species Code: 9430\n",
      "Population Code: 20\n",
      "CurrentDistribution: 1678\n",
      "Family: 900\n",
      "First Listed: 638\n",
      "Species Group: 20\n",
      "Lead Region: 12\n",
      "Federal Listing Status: 19\n",
      "Regions ofOccurrence: 58\n",
      "U.S. or ForeignListed: 4\n",
      "Vertebrate/Invertebrate/Plant: 3\n",
      "Where Listed: 322\n"
     ]
    }
   ],
   "source": [
    "# print unique values in each column\n",
    "for column in species.columns:\n",
    "    print(column + ': ' + str(len(species[column].unique())))"
   ]
  },
  {
   "cell_type": "code",
   "execution_count": 5,
   "metadata": {},
   "outputs": [],
   "source": [
    "# drop uninformative columns\n",
    "species = species.drop(['Inverted Common Name',\n",
    "                        'Species Code',\n",
    "                        'Population Code',\n",
    "                        'Family',\n",
    "                        'First Listed',\n",
    "                        'Regions ofOccurrence',\n",
    "                        'U.S. or ForeignListed',\n",
    "                        'Where Listed'], axis=1)"
   ]
  },
  {
   "cell_type": "code",
   "execution_count": 6,
   "metadata": {},
   "outputs": [],
   "source": [
    "# simplify column names\n",
    "species.columns = ['Scientific Name',\n",
    "                   'Common Name',\n",
    "                   'Distribution',\n",
    "                   'Group',\n",
    "                   'Region',\n",
    "                   'Federal Listing Status',\n",
    "                   'VIP']"
   ]
  },
  {
   "cell_type": "code",
   "execution_count": 7,
   "metadata": {
    "scrolled": false
   },
   "outputs": [
    {
     "name": "stdout",
     "output_type": "stream",
     "text": [
      "(9612, 7)\n"
     ]
    },
    {
     "data": {
      "text/html": [
       "<div>\n",
       "<style scoped>\n",
       "    .dataframe tbody tr th:only-of-type {\n",
       "        vertical-align: middle;\n",
       "    }\n",
       "\n",
       "    .dataframe tbody tr th {\n",
       "        vertical-align: top;\n",
       "    }\n",
       "\n",
       "    .dataframe thead th {\n",
       "        text-align: right;\n",
       "    }\n",
       "</style>\n",
       "<table border=\"1\" class=\"dataframe\">\n",
       "  <thead>\n",
       "    <tr style=\"text-align: right;\">\n",
       "      <th></th>\n",
       "      <th>Scientific Name</th>\n",
       "      <th>Common Name</th>\n",
       "      <th>Distribution</th>\n",
       "      <th>Group</th>\n",
       "      <th>Region</th>\n",
       "      <th>Federal Listing Status</th>\n",
       "      <th>VIP</th>\n",
       "    </tr>\n",
       "  </thead>\n",
       "  <tbody>\n",
       "    <tr>\n",
       "      <th>0</th>\n",
       "      <td>Abies fraseri</td>\n",
       "      <td>Fraser fir</td>\n",
       "      <td>NC, VA;</td>\n",
       "      <td>Conifers and Cycads</td>\n",
       "      <td>4</td>\n",
       "      <td>Not Listed</td>\n",
       "      <td>P</td>\n",
       "    </tr>\n",
       "    <tr>\n",
       "      <th>1</th>\n",
       "      <td>Abies guatemalensis</td>\n",
       "      <td>Guatemalan Fir (=pinabete)</td>\n",
       "      <td>Mexico, Honduras, Guatemala, El Salvador</td>\n",
       "      <td>Conifers and Cycads</td>\n",
       "      <td>Foreign</td>\n",
       "      <td>Threatened</td>\n",
       "      <td>P</td>\n",
       "    </tr>\n",
       "    <tr>\n",
       "      <th>2</th>\n",
       "      <td>Ablautus schlingeri</td>\n",
       "      <td>Oso Flaco robber fly</td>\n",
       "      <td>CA;</td>\n",
       "      <td>Insects</td>\n",
       "      <td>1</td>\n",
       "      <td>Not Listed</td>\n",
       "      <td>I</td>\n",
       "    </tr>\n",
       "    <tr>\n",
       "      <th>3</th>\n",
       "      <td>Abronia alpina</td>\n",
       "      <td>Ramshaw Meadows sand-verbena</td>\n",
       "      <td>CA;</td>\n",
       "      <td>Flowering Plants</td>\n",
       "      <td>8</td>\n",
       "      <td>Not Listed</td>\n",
       "      <td>P</td>\n",
       "    </tr>\n",
       "    <tr>\n",
       "      <th>4</th>\n",
       "      <td>Abronia ammophila</td>\n",
       "      <td>Yellowstone Sand Verbena</td>\n",
       "      <td>NaN</td>\n",
       "      <td>Flowering Plants</td>\n",
       "      <td>6</td>\n",
       "      <td>Not Listed</td>\n",
       "      <td>P</td>\n",
       "    </tr>\n",
       "  </tbody>\n",
       "</table>\n",
       "</div>"
      ],
      "text/plain": [
       "       Scientific Name                   Common Name  \\\n",
       "0        Abies fraseri                    Fraser fir   \n",
       "1  Abies guatemalensis    Guatemalan Fir (=pinabete)   \n",
       "2  Ablautus schlingeri          Oso Flaco robber fly   \n",
       "3       Abronia alpina  Ramshaw Meadows sand-verbena   \n",
       "4    Abronia ammophila      Yellowstone Sand Verbena   \n",
       "\n",
       "                               Distribution                Group   Region  \\\n",
       "0                                   NC, VA;  Conifers and Cycads        4   \n",
       "1  Mexico, Honduras, Guatemala, El Salvador  Conifers and Cycads  Foreign   \n",
       "2                                       CA;              Insects        1   \n",
       "3                                       CA;     Flowering Plants        8   \n",
       "4                                       NaN     Flowering Plants        6   \n",
       "\n",
       "  Federal Listing Status VIP  \n",
       "0             Not Listed   P  \n",
       "1             Threatened   P  \n",
       "2             Not Listed   I  \n",
       "3             Not Listed   P  \n",
       "4             Not Listed   P  "
      ]
     },
     "execution_count": 7,
     "metadata": {},
     "output_type": "execute_result"
    }
   ],
   "source": [
    "print(species.shape)\n",
    "species.head()"
   ]
  },
  {
   "cell_type": "markdown",
   "metadata": {},
   "source": [
    "### Handling Missing Records"
   ]
  },
  {
   "cell_type": "code",
   "execution_count": 8,
   "metadata": {
    "scrolled": false
   },
   "outputs": [
    {
     "name": "stdout",
     "output_type": "stream",
     "text": [
      "Scientific Name             0\n",
      "Common Name                 0\n",
      "Distribution              860\n",
      "Group                       0\n",
      "Region                     73\n",
      "Federal Listing Status      0\n",
      "VIP                         0\n",
      "dtype: int64\n"
     ]
    },
    {
     "data": {
      "text/plain": [
       "<matplotlib.axes._subplots.AxesSubplot at 0x1a22182da0>"
      ]
     },
     "execution_count": 8,
     "metadata": {},
     "output_type": "execute_result"
    },
    {
     "data": {
      "image/png": "[encoded data removed]",
      "text/plain": [
       "<Figure size 1800x720 with 2 Axes>"
      ]
     },
     "metadata": {
      "needs_background": "light"
     },
     "output_type": "display_data"
    }
   ],
   "source": [
    "# check species data for null values\n",
    "print(species.isnull().sum())\n",
    "\n",
    "# visualize null values\n",
    "msno.matrix(species)"
   ]
  },
  {
   "cell_type": "code",
   "execution_count": 9,
   "metadata": {
    "scrolled": false
   },
   "outputs": [
    {
     "name": "stdout",
     "output_type": "stream",
     "text": [
      "0.0970661672908864\n"
     ]
    }
   ],
   "source": [
    "# ~10% of records that do not have geographic information\n",
    "print(species.isnull().sum().sum() / species.shape[0])\n",
    "\n",
    "# drop records without geographic information\n",
    "species = species.dropna()"
   ]
  },
  {
   "cell_type": "code",
   "execution_count": 10,
   "metadata": {
    "scrolled": true
   },
   "outputs": [
    {
     "name": "stdout",
     "output_type": "stream",
     "text": [
      "(8751, 7)\n"
     ]
    },
    {
     "data": {
      "text/html": [
       "<div>\n",
       "<style scoped>\n",
       "    .dataframe tbody tr th:only-of-type {\n",
       "        vertical-align: middle;\n",
       "    }\n",
       "\n",
       "    .dataframe tbody tr th {\n",
       "        vertical-align: top;\n",
       "    }\n",
       "\n",
       "    .dataframe thead th {\n",
       "        text-align: right;\n",
       "    }\n",
       "</style>\n",
       "<table border=\"1\" class=\"dataframe\">\n",
       "  <thead>\n",
       "    <tr style=\"text-align: right;\">\n",
       "      <th></th>\n",
       "      <th>Scientific Name</th>\n",
       "      <th>Common Name</th>\n",
       "      <th>Distribution</th>\n",
       "      <th>Group</th>\n",
       "      <th>Region</th>\n",
       "      <th>Federal Listing Status</th>\n",
       "      <th>VIP</th>\n",
       "    </tr>\n",
       "  </thead>\n",
       "  <tbody>\n",
       "    <tr>\n",
       "      <th>0</th>\n",
       "      <td>Abies fraseri</td>\n",
       "      <td>Fraser fir</td>\n",
       "      <td>NC, VA;</td>\n",
       "      <td>Conifers and Cycads</td>\n",
       "      <td>4</td>\n",
       "      <td>Not Listed</td>\n",
       "      <td>P</td>\n",
       "    </tr>\n",
       "    <tr>\n",
       "      <th>1</th>\n",
       "      <td>Abies guatemalensis</td>\n",
       "      <td>Guatemalan Fir (=pinabete)</td>\n",
       "      <td>Mexico, Honduras, Guatemala, El Salvador</td>\n",
       "      <td>Conifers and Cycads</td>\n",
       "      <td>Foreign</td>\n",
       "      <td>Threatened</td>\n",
       "      <td>P</td>\n",
       "    </tr>\n",
       "    <tr>\n",
       "      <th>2</th>\n",
       "      <td>Ablautus schlingeri</td>\n",
       "      <td>Oso Flaco robber fly</td>\n",
       "      <td>CA;</td>\n",
       "      <td>Insects</td>\n",
       "      <td>1</td>\n",
       "      <td>Not Listed</td>\n",
       "      <td>I</td>\n",
       "    </tr>\n",
       "    <tr>\n",
       "      <th>3</th>\n",
       "      <td>Abronia alpina</td>\n",
       "      <td>Ramshaw Meadows sand-verbena</td>\n",
       "      <td>CA;</td>\n",
       "      <td>Flowering Plants</td>\n",
       "      <td>8</td>\n",
       "      <td>Not Listed</td>\n",
       "      <td>P</td>\n",
       "    </tr>\n",
       "    <tr>\n",
       "      <th>6</th>\n",
       "      <td>Abronia ammphila</td>\n",
       "      <td>[Unnamed] sand-verbena</td>\n",
       "      <td>WY;</td>\n",
       "      <td>Flowering Plants</td>\n",
       "      <td>6</td>\n",
       "      <td>Not Listed</td>\n",
       "      <td>P</td>\n",
       "    </tr>\n",
       "  </tbody>\n",
       "</table>\n",
       "</div>"
      ],
      "text/plain": [
       "       Scientific Name                   Common Name  \\\n",
       "0        Abies fraseri                    Fraser fir   \n",
       "1  Abies guatemalensis    Guatemalan Fir (=pinabete)   \n",
       "2  Ablautus schlingeri          Oso Flaco robber fly   \n",
       "3       Abronia alpina  Ramshaw Meadows sand-verbena   \n",
       "6     Abronia ammphila        [Unnamed] sand-verbena   \n",
       "\n",
       "                               Distribution                Group   Region  \\\n",
       "0                                   NC, VA;  Conifers and Cycads        4   \n",
       "1  Mexico, Honduras, Guatemala, El Salvador  Conifers and Cycads  Foreign   \n",
       "2                                       CA;              Insects        1   \n",
       "3                                       CA;     Flowering Plants        8   \n",
       "6                                       WY;     Flowering Plants        6   \n",
       "\n",
       "  Federal Listing Status VIP  \n",
       "0             Not Listed   P  \n",
       "1             Threatened   P  \n",
       "2             Not Listed   I  \n",
       "3             Not Listed   P  \n",
       "6             Not Listed   P  "
      ]
     },
     "execution_count": 10,
     "metadata": {},
     "output_type": "execute_result"
    }
   ],
   "source": [
    "print(species.shape)\n",
    "species.head()"
   ]
  },
  {
   "cell_type": "markdown",
   "metadata": {},
   "source": [
    "### Stacking Records into Schema"
   ]
  },
  {
   "cell_type": "code",
   "execution_count": 11,
   "metadata": {
    "scrolled": false
   },
   "outputs": [
    {
     "data": {
      "text/plain": [
       "Group\n",
       "Amphibians                   138\n",
       "Annelid Worms                  2\n",
       "Arachnids                     50\n",
       "Birds                        475\n",
       "Clams                        203\n",
       "Conifers and Cycads           22\n",
       "Corals                         3\n",
       "Crustaceans                  230\n",
       "Ferns and Allies              95\n",
       "Fishes                       429\n",
       "Flatworms and Roundworms       8\n",
       "Flowering Plants            4584\n",
       "Hydroids                       1\n",
       "Insects                     1063\n",
       "Lichens                       17\n",
       "Mammals                      660\n",
       "Millipedes                     1\n",
       "Reptiles                     257\n",
       "Snails                       506\n",
       "Sponges                        7\n",
       "Name: Group, dtype: int64"
      ]
     },
     "execution_count": 11,
     "metadata": {},
     "output_type": "execute_result"
    }
   ],
   "source": [
    "# unique species groups\n",
    "species.groupby('Group')['Group'].count()"
   ]
  },
  {
   "cell_type": "code",
   "execution_count": 12,
   "metadata": {},
   "outputs": [
    {
     "data": {
      "text/plain": [
       "VIP\n",
       "I    2074\n",
       "P    4718\n",
       "V    1959\n",
       "Name: VIP, dtype: int64"
      ]
     },
     "execution_count": 12,
     "metadata": {},
     "output_type": "execute_result"
    }
   ],
   "source": [
    "# unique species types\n",
    "species.groupby('VIP')['VIP'].count()"
   ]
  },
  {
   "cell_type": "code",
   "execution_count": 13,
   "metadata": {
    "scrolled": true
   },
   "outputs": [
    {
     "name": "stdout",
     "output_type": "stream",
     "text": [
      "Region\n",
      "1          3531\n",
      "2           989\n",
      "3           211\n",
      "4          1804\n",
      "5           355\n",
      "6           615\n",
      "7            76\n",
      "8           480\n",
      "9             1\n",
      "Foreign     624\n",
      "NMFS         65\n",
      "Name: Region, dtype: int64\n"
     ]
    }
   ],
   "source": [
    "# unique current distribution\n",
    "print(species.groupby('Region')['Region'].count())\n",
    "\n",
    "# drop species in foreign geographic regions\n",
    "species = species[species['Region'] != 'Foreign']\n",
    "\n",
    "# drop species in geographic region 9 (not documented)\n",
    "species = species[species['Region'] != '9']"
   ]
  },
  {
   "cell_type": "code",
   "execution_count": 14,
   "metadata": {
    "scrolled": false
   },
   "outputs": [],
   "source": [
    "# list of US states\n",
    "state_abbrevs = ['AL', 'AK', 'AZ', 'AR', 'CA', 'CO', 'CT', 'DE', 'FL', 'GA',\n",
    "                 'HI', 'ID', 'IL', 'IN', 'IA', 'KS', 'KY', 'LA', 'ME', 'MD',\n",
    "                 'MA', 'MI', 'MN', 'MS', 'MO', 'MT', 'NE', 'NV', 'NH', 'NJ',\n",
    "                 'NM', 'NY', 'NC', 'ND', 'OH', 'OK', 'OR', 'PA', 'RI', 'SC',\n",
    "                 'SD', 'TN', 'TX', 'UT', 'VT', 'VA', 'WA', 'WV', 'WI', 'WY']\n",
    "\n",
    "# stack records with multiple US states in current distribution\n",
    "species_stack = pd.DataFrame(columns=species.columns)\n",
    "\n",
    "for abbrev in state_abbrevs:\n",
    "    state = species[species['Distribution'].str.contains(abbrev)]\n",
    "    state = state.assign(State=abbrev)\n",
    "    species_stack = species_stack.append(state, ignore_index=True, sort=False)\n",
    "    \n",
    "# drop current distribution\n",
    "species = species_stack.drop(['Distribution'], axis=1)"
   ]
  },
  {
   "cell_type": "code",
   "execution_count": 15,
   "metadata": {
    "scrolled": false
   },
   "outputs": [
    {
     "name": "stdout",
     "output_type": "stream",
     "text": [
      "Federal Listing Status\n",
      "Candidate                                                    34\n",
      "Endangered                                                 1901\n",
      "Experimental Population, Non-Essential                      260\n",
      "Extinction                                                   17\n",
      "Not Listed                                                 9074\n",
      "Original Data in Error - Act Amendment                        1\n",
      "Original Data in Error - New Information Discovered           9\n",
      "Original Data in Error - Not a listable entity                7\n",
      "Original Data in Error - Taxonomic Revision                   9\n",
      "Proposed Endangered                                           3\n",
      "Proposed Similarity of Appearance to a Threatened Taxon       1\n",
      "Proposed Threatened                                          62\n",
      "Recovery                                                     83\n",
      "Similarity of Appearance to a Threatened Taxon               40\n",
      "Threatened                                                  817\n",
      "Under Review in the Candidate or Petition Process          1073\n",
      "Name: Federal Listing Status, dtype: int64\n"
     ]
    }
   ],
   "source": [
    "# unique federal listing status\n",
    "print(species.groupby('Federal Listing Status')['Federal Listing Status'].count())\n",
    "\n",
    "# keep records for endangered, not listed and threatened species\n",
    "species = species[(species['Federal Listing Status'] == 'Endangered') |\n",
    "                  (species['Federal Listing Status'] == 'Not Listed') |\n",
    "                  (species['Federal Listing Status'] == 'Threatened')]"
   ]
  },
  {
   "cell_type": "code",
   "execution_count": 16,
   "metadata": {},
   "outputs": [],
   "source": [
    "# drop duplicate rows\n",
    "species = species.drop_duplicates()"
   ]
  },
  {
   "cell_type": "code",
   "execution_count": 17,
   "metadata": {
    "scrolled": true
   },
   "outputs": [
    {
     "name": "stdout",
     "output_type": "stream",
     "text": [
      "(11737, 7)\n"
     ]
    },
    {
     "data": {
      "text/html": [
       "<div>\n",
       "<style scoped>\n",
       "    .dataframe tbody tr th:only-of-type {\n",
       "        vertical-align: middle;\n",
       "    }\n",
       "\n",
       "    .dataframe tbody tr th {\n",
       "        vertical-align: top;\n",
       "    }\n",
       "\n",
       "    .dataframe thead th {\n",
       "        text-align: right;\n",
       "    }\n",
       "</style>\n",
       "<table border=\"1\" class=\"dataframe\">\n",
       "  <thead>\n",
       "    <tr style=\"text-align: right;\">\n",
       "      <th></th>\n",
       "      <th>Scientific Name</th>\n",
       "      <th>Common Name</th>\n",
       "      <th>Group</th>\n",
       "      <th>Region</th>\n",
       "      <th>Federal Listing Status</th>\n",
       "      <th>VIP</th>\n",
       "      <th>State</th>\n",
       "    </tr>\n",
       "  </thead>\n",
       "  <tbody>\n",
       "    <tr>\n",
       "      <th>0</th>\n",
       "      <td>Accipiter gentilis</td>\n",
       "      <td>Northern goshawk</td>\n",
       "      <td>Birds</td>\n",
       "      <td>2</td>\n",
       "      <td>Not Listed</td>\n",
       "      <td>V</td>\n",
       "      <td>AL</td>\n",
       "    </tr>\n",
       "    <tr>\n",
       "      <th>1</th>\n",
       "      <td>Acipenser fulvescens</td>\n",
       "      <td>Lake sturgeon</td>\n",
       "      <td>Fishes</td>\n",
       "      <td>3</td>\n",
       "      <td>Not Listed</td>\n",
       "      <td>V</td>\n",
       "      <td>AL</td>\n",
       "    </tr>\n",
       "    <tr>\n",
       "      <th>2</th>\n",
       "      <td>Acipenser oxyrinchus (=oxyrhynchus) desotoi</td>\n",
       "      <td>Atlantic sturgeon (Gulf subspecies)</td>\n",
       "      <td>Fishes</td>\n",
       "      <td>4</td>\n",
       "      <td>Threatened</td>\n",
       "      <td>V</td>\n",
       "      <td>AL</td>\n",
       "    </tr>\n",
       "    <tr>\n",
       "      <th>3</th>\n",
       "      <td>Agarodes alabamensis</td>\n",
       "      <td>[Unnamed] caddisfly</td>\n",
       "      <td>Insects</td>\n",
       "      <td>4</td>\n",
       "      <td>Not Listed</td>\n",
       "      <td>I</td>\n",
       "      <td>AL</td>\n",
       "    </tr>\n",
       "    <tr>\n",
       "      <th>4</th>\n",
       "      <td>Agrimonia incisa</td>\n",
       "      <td>Incised groovebur</td>\n",
       "      <td>Flowering Plants</td>\n",
       "      <td>4</td>\n",
       "      <td>Not Listed</td>\n",
       "      <td>P</td>\n",
       "      <td>AL</td>\n",
       "    </tr>\n",
       "  </tbody>\n",
       "</table>\n",
       "</div>"
      ],
      "text/plain": [
       "                               Scientific Name  \\\n",
       "0                           Accipiter gentilis   \n",
       "1                         Acipenser fulvescens   \n",
       "2  Acipenser oxyrinchus (=oxyrhynchus) desotoi   \n",
       "3                         Agarodes alabamensis   \n",
       "4                             Agrimonia incisa   \n",
       "\n",
       "                           Common Name             Group Region  \\\n",
       "0                     Northern goshawk             Birds      2   \n",
       "1                        Lake sturgeon            Fishes      3   \n",
       "2  Atlantic sturgeon (Gulf subspecies)            Fishes      4   \n",
       "3                  [Unnamed] caddisfly           Insects      4   \n",
       "4                    Incised groovebur  Flowering Plants      4   \n",
       "\n",
       "  Federal Listing Status VIP State  \n",
       "0             Not Listed   V    AL  \n",
       "1             Not Listed   V    AL  \n",
       "2             Threatened   V    AL  \n",
       "3             Not Listed   I    AL  \n",
       "4             Not Listed   P    AL  "
      ]
     },
     "execution_count": 17,
     "metadata": {},
     "output_type": "execute_result"
    }
   ],
   "source": [
    "print(species.shape)\n",
    "species.head()"
   ]
  },
  {
   "cell_type": "code",
   "execution_count": 18,
   "metadata": {},
   "outputs": [
    {
     "name": "stdout",
     "output_type": "stream",
     "text": [
      "Scientific Name           0\n",
      "Common Name               0\n",
      "Group                     0\n",
      "Region                    0\n",
      "Federal Listing Status    0\n",
      "VIP                       0\n",
      "State                     0\n",
      "dtype: int64\n"
     ]
    },
    {
     "data": {
      "text/plain": [
       "<matplotlib.axes._subplots.AxesSubplot at 0x1a20db24a8>"
      ]
     },
     "execution_count": 18,
     "metadata": {},
     "output_type": "execute_result"
    },
    {
     "data": {
      "image/png": "[encoded data removed]",
      "text/plain": [
       "<Figure size 1800x720 with 2 Axes>"
      ]
     },
     "metadata": {
      "needs_background": "light"
     },
     "output_type": "display_data"
    }
   ],
   "source": [
    "# check species data for null values\n",
    "print(species.isnull().sum())\n",
    "\n",
    "# visualize null values\n",
    "msno.matrix(species)"
   ]
  },
  {
   "cell_type": "markdown",
   "metadata": {},
   "source": [
    "### Data Loading"
   ]
  },
  {
   "cell_type": "code",
   "execution_count": 19,
   "metadata": {},
   "outputs": [],
   "source": [
    "species.to_pickle(\"../Data/fws.pkl\")"
   ]
  }
 ],
 "metadata": {
  "kernelspec": {
   "display_name": "Python 3",
   "language": "python",
   "name": "python3"
  },
  "language_info": {
   "codemirror_mode": {
    "name": "ipython",
    "version": 3
   },
   "file_extension": ".py",
   "mimetype": "text/x-python",
   "name": "python",
   "nbconvert_exporter": "python",
   "pygments_lexer": "ipython3",
   "version": "3.7.1"
  }
 },
 "nbformat": 4,
 "nbformat_minor": 2
}
