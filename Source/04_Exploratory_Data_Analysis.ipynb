{
 "cells": [
  {
   "cell_type": "markdown",
   "metadata": {},
   "source": [
    "# Exploratory Data Analysis"
   ]
  },
  {
   "cell_type": "code",
   "execution_count": 1,
   "metadata": {},
   "outputs": [],
   "source": [
    "import pandas as pd\n",
    "import matplotlib.pyplot as plt\n",
    "import seaborn as sns\n",
    "sns.set_style(\"darkgrid\")"
   ]
  },
  {
   "cell_type": "markdown",
   "metadata": {},
   "source": [
    "### Load Data from U.S. Fish & Wildlife Service"
   ]
  },
  {
   "cell_type": "code",
   "execution_count": 2,
   "metadata": {
    "scrolled": true
   },
   "outputs": [
    {
     "data": {
      "text/html": [
       "<div>\n",
       "<style scoped>\n",
       "    .dataframe tbody tr th:only-of-type {\n",
       "        vertical-align: middle;\n",
       "    }\n",
       "\n",
       "    .dataframe tbody tr th {\n",
       "        vertical-align: top;\n",
       "    }\n",
       "\n",
       "    .dataframe thead th {\n",
       "        text-align: right;\n",
       "    }\n",
       "</style>\n",
       "<table border=\"1\" class=\"dataframe\">\n",
       "  <thead>\n",
       "    <tr style=\"text-align: right;\">\n",
       "      <th></th>\n",
       "      <th>Family</th>\n",
       "      <th>Group</th>\n",
       "      <th>Region</th>\n",
       "      <th>Federal Listing Status</th>\n",
       "      <th>VIP</th>\n",
       "      <th>State</th>\n",
       "    </tr>\n",
       "  </thead>\n",
       "  <tbody>\n",
       "    <tr>\n",
       "      <th>0</th>\n",
       "      <td>Accipitridae</td>\n",
       "      <td>Birds</td>\n",
       "      <td>2</td>\n",
       "      <td>Not Listed</td>\n",
       "      <td>V</td>\n",
       "      <td>AL</td>\n",
       "    </tr>\n",
       "    <tr>\n",
       "      <th>1</th>\n",
       "      <td>Acipenseridae</td>\n",
       "      <td>Fishes</td>\n",
       "      <td>3</td>\n",
       "      <td>Not Listed</td>\n",
       "      <td>V</td>\n",
       "      <td>AL</td>\n",
       "    </tr>\n",
       "    <tr>\n",
       "      <th>2</th>\n",
       "      <td>Acipenseridae</td>\n",
       "      <td>Fishes</td>\n",
       "      <td>4</td>\n",
       "      <td>Threatened</td>\n",
       "      <td>V</td>\n",
       "      <td>AL</td>\n",
       "    </tr>\n",
       "    <tr>\n",
       "      <th>3</th>\n",
       "      <td>Sericostomatidae</td>\n",
       "      <td>Insects</td>\n",
       "      <td>4</td>\n",
       "      <td>Not Listed</td>\n",
       "      <td>I</td>\n",
       "      <td>AL</td>\n",
       "    </tr>\n",
       "    <tr>\n",
       "      <th>4</th>\n",
       "      <td>Rosaceae</td>\n",
       "      <td>Flowering Plants</td>\n",
       "      <td>4</td>\n",
       "      <td>Not Listed</td>\n",
       "      <td>P</td>\n",
       "      <td>AL</td>\n",
       "    </tr>\n",
       "  </tbody>\n",
       "</table>\n",
       "</div>"
      ],
      "text/plain": [
       "             Family             Group Region Federal Listing Status VIP State\n",
       "0      Accipitridae             Birds      2             Not Listed   V    AL\n",
       "1     Acipenseridae            Fishes      3             Not Listed   V    AL\n",
       "2     Acipenseridae            Fishes      4             Threatened   V    AL\n",
       "3  Sericostomatidae           Insects      4             Not Listed   I    AL\n",
       "4          Rosaceae  Flowering Plants      4             Not Listed   P    AL"
      ]
     },
     "execution_count": 2,
     "metadata": {},
     "output_type": "execute_result"
    }
   ],
   "source": [
    "species = pd.read_pickle(\"../Data/FWS.pkl\")\n",
    "species.head()"
   ]
  },
  {
   "cell_type": "code",
   "execution_count": 3,
   "metadata": {
    "scrolled": true
   },
   "outputs": [
    {
     "name": "stdout",
     "output_type": "stream",
     "text": [
      "<class 'pandas.core.frame.DataFrame'>\n",
      "Int64Index: 5475 entries, 0 to 13390\n",
      "Data columns (total 6 columns):\n",
      "Family                    5475 non-null object\n",
      "Group                     5475 non-null object\n",
      "Region                    5475 non-null object\n",
      "Federal Listing Status    5475 non-null object\n",
      "VIP                       5475 non-null object\n",
      "State                     5475 non-null object\n",
      "dtypes: object(6)\n",
      "memory usage: 299.4+ KB\n"
     ]
    }
   ],
   "source": [
    "species.info()"
   ]
  },
  {
   "cell_type": "code",
   "execution_count": 4,
   "metadata": {},
   "outputs": [
    {
     "data": {
      "text/html": [
       "<div>\n",
       "<style scoped>\n",
       "    .dataframe tbody tr th:only-of-type {\n",
       "        vertical-align: middle;\n",
       "    }\n",
       "\n",
       "    .dataframe tbody tr th {\n",
       "        vertical-align: top;\n",
       "    }\n",
       "\n",
       "    .dataframe thead th {\n",
       "        text-align: right;\n",
       "    }\n",
       "</style>\n",
       "<table border=\"1\" class=\"dataframe\">\n",
       "  <thead>\n",
       "    <tr style=\"text-align: right;\">\n",
       "      <th></th>\n",
       "      <th>Family</th>\n",
       "      <th>Group</th>\n",
       "      <th>Region</th>\n",
       "      <th>Federal Listing Status</th>\n",
       "      <th>VIP</th>\n",
       "      <th>State</th>\n",
       "    </tr>\n",
       "  </thead>\n",
       "  <tbody>\n",
       "    <tr>\n",
       "      <th>count</th>\n",
       "      <td>5475</td>\n",
       "      <td>5475</td>\n",
       "      <td>5475</td>\n",
       "      <td>5475</td>\n",
       "      <td>5475</td>\n",
       "      <td>5475</td>\n",
       "    </tr>\n",
       "    <tr>\n",
       "      <th>unique</th>\n",
       "      <td>571</td>\n",
       "      <td>20</td>\n",
       "      <td>9</td>\n",
       "      <td>3</td>\n",
       "      <td>3</td>\n",
       "      <td>50</td>\n",
       "    </tr>\n",
       "    <tr>\n",
       "      <th>top</th>\n",
       "      <td>Orchidaceae</td>\n",
       "      <td>Flowering Plants</td>\n",
       "      <td>4</td>\n",
       "      <td>Not Listed</td>\n",
       "      <td>P</td>\n",
       "      <td>CA</td>\n",
       "    </tr>\n",
       "    <tr>\n",
       "      <th>freq</th>\n",
       "      <td>140</td>\n",
       "      <td>2213</td>\n",
       "      <td>1536</td>\n",
       "      <td>3859</td>\n",
       "      <td>2359</td>\n",
       "      <td>411</td>\n",
       "    </tr>\n",
       "  </tbody>\n",
       "</table>\n",
       "</div>"
      ],
      "text/plain": [
       "             Family             Group Region Federal Listing Status   VIP  \\\n",
       "count          5475              5475   5475                   5475  5475   \n",
       "unique          571                20      9                      3     3   \n",
       "top     Orchidaceae  Flowering Plants      4             Not Listed     P   \n",
       "freq            140              2213   1536                   3859  2359   \n",
       "\n",
       "       State  \n",
       "count   5475  \n",
       "unique    50  \n",
       "top       CA  \n",
       "freq     411  "
      ]
     },
     "execution_count": 4,
     "metadata": {},
     "output_type": "execute_result"
    }
   ],
   "source": [
    "species.describe()"
   ]
  },
  {
   "cell_type": "markdown",
   "metadata": {},
   "source": [
    "### Target Distribution"
   ]
  },
  {
   "cell_type": "code",
   "execution_count": 5,
   "metadata": {},
   "outputs": [
    {
     "name": "stdout",
     "output_type": "stream",
     "text": [
      "Not Listed    3859\n",
      "Endangered     917\n",
      "Threatened     699\n",
      "Name: Federal Listing Status, dtype: int64\n",
      "Endangered: 0.16748858447488585\n",
      "Not Listed: 0.7048401826484019\n",
      "Threatened: 0.12767123287671234\n"
     ]
    },
    {
     "data": {
      "text/plain": [
       "<matplotlib.axes._subplots.AxesSubplot at 0x1a1d3093c8>"
      ]
     },
     "execution_count": 5,
     "metadata": {},
     "output_type": "execute_result"
    },
    {
     "data": {
      "image/png": "[encoded data removed]",
      "text/plain": [
       "<Figure size 720x432 with 1 Axes>"
      ]
     },
     "metadata": {
      "needs_background": "light"
     },
     "output_type": "display_data"
    }
   ],
   "source": [
    "# federal listing status\n",
    "print(species['Federal Listing Status'].value_counts())\n",
    "print('Endangered: ' + str((species['Federal Listing Status'] == 'Endangered').sum() / species.shape[0]))\n",
    "print('Not Listed: ' + str((species['Federal Listing Status'] == 'Not Listed').sum() / species.shape[0]))\n",
    "print('Threatened: ' + str((species['Federal Listing Status'] == 'Threatened').sum() / species.shape[0]))\n",
    "\n",
    "# plot class imbalance\n",
    "fig, ax = plt.subplots(figsize=(10,6))\n",
    "sns.countplot(species['Federal Listing Status'],\n",
    "              order=species['Federal Listing Status'].value_counts().index,\n",
    "              alpha=0.8)"
   ]
  },
  {
   "cell_type": "markdown",
   "metadata": {},
   "source": [
    "### Feature Distribution"
   ]
  },
  {
   "cell_type": "code",
   "execution_count": 6,
   "metadata": {
    "scrolled": false
   },
   "outputs": [
    {
     "name": "stdout",
     "output_type": "stream",
     "text": [
      "Orchidaceae          140\n",
      "Unionidae            128\n",
      "Vespertilionidae     124\n",
      "Asteraceae           109\n",
      "Fabaceae             107\n",
      "Cyperaceae            96\n",
      "Cyprinidae            94\n",
      "Scrophulariaceae      92\n",
      "Brassicaceae          86\n",
      "Rallidae              70\n",
      "Poaceae               70\n",
      "Accipitridae          69\n",
      "Salmonidae            65\n",
      "Laridae               65\n",
      "Lycaenidae            63\n",
      "Nymphalidae           62\n",
      "Ranunculaceae         60\n",
      "Liliaceae             59\n",
      "Rosaceae              58\n",
      "Scolopacidae          58\n",
      "Noctuidae             57\n",
      "Caryophyllaceae       57\n",
      "Emberizidae           55\n",
      "Acipenseridae         53\n",
      "Percidae              52\n",
      "Malvaceae             51\n",
      "Apiaceae              50\n",
      "Catostomidae          48\n",
      "Lamiaceae             48\n",
      "Primulaceae           46\n",
      "                    ... \n",
      "Lepidoziaceae          1\n",
      "cyprinidae             1\n",
      "Tenebrionidae          1\n",
      "Gyrinidae              1\n",
      "Ctenizidae             1\n",
      "Chrysopidae            1\n",
      "Threskiornithidae      1\n",
      "Phaloniidae            1\n",
      "Proterhinidae          1\n",
      "Parmeliaceae           1\n",
      "Belostomatidae         1\n",
      "Burmanniaceae          1\n",
      "Lucanidae              1\n",
      "Asparagaceae           1\n",
      "Coccyzidae             1\n",
      "Ephydridae             1\n",
      "Artemiidae             1\n",
      "Graphidaceae           1\n",
      "Atherinidae            1\n",
      "Melongenidae           1\n",
      "Ceratophyllaceae       1\n",
      "Najadaceae             1\n",
      "Aizoaceae              1\n",
      "Campanlaceae           1\n",
      "Alectoriaceae          1\n",
      "Grossulariaceae        1\n",
      "euphorbiaceae          1\n",
      "Pristilomatidae        1\n",
      "Embiotocidae           1\n",
      "Myrmeleontidae         1\n",
      "Name: Family, Length: 571, dtype: int64\n",
      "Orchidaceae          0.025571\n",
      "Unionidae            0.023379\n",
      "Vespertilionidae     0.022648\n",
      "Asteraceae           0.019909\n",
      "Fabaceae             0.019543\n",
      "Cyperaceae           0.017534\n",
      "Cyprinidae           0.017169\n",
      "Scrophulariaceae     0.016804\n",
      "Brassicaceae         0.015708\n",
      "Rallidae             0.012785\n",
      "Poaceae              0.012785\n",
      "Accipitridae         0.012603\n",
      "Salmonidae           0.011872\n",
      "Laridae              0.011872\n",
      "Lycaenidae           0.011507\n",
      "Nymphalidae          0.011324\n",
      "Ranunculaceae        0.010959\n",
      "Liliaceae            0.010776\n",
      "Rosaceae             0.010594\n",
      "Scolopacidae         0.010594\n",
      "Noctuidae            0.010411\n",
      "Caryophyllaceae      0.010411\n",
      "Emberizidae          0.010046\n",
      "Acipenseridae        0.009680\n",
      "Percidae             0.009498\n",
      "Malvaceae            0.009315\n",
      "Apiaceae             0.009132\n",
      "Catostomidae         0.008767\n",
      "Lamiaceae            0.008767\n",
      "Primulaceae          0.008402\n",
      "                       ...   \n",
      "Lepidoziaceae        0.000183\n",
      "cyprinidae           0.000183\n",
      "Tenebrionidae        0.000183\n",
      "Gyrinidae            0.000183\n",
      "Ctenizidae           0.000183\n",
      "Chrysopidae          0.000183\n",
      "Threskiornithidae    0.000183\n",
      "Phaloniidae          0.000183\n",
      "Proterhinidae        0.000183\n",
      "Parmeliaceae         0.000183\n",
      "Belostomatidae       0.000183\n",
      "Burmanniaceae        0.000183\n",
      "Lucanidae            0.000183\n",
      "Asparagaceae         0.000183\n",
      "Coccyzidae           0.000183\n",
      "Ephydridae           0.000183\n",
      "Artemiidae           0.000183\n",
      "Graphidaceae         0.000183\n",
      "Atherinidae          0.000183\n",
      "Melongenidae         0.000183\n",
      "Ceratophyllaceae     0.000183\n",
      "Najadaceae           0.000183\n",
      "Aizoaceae            0.000183\n",
      "Campanlaceae         0.000183\n",
      "Alectoriaceae        0.000183\n",
      "Grossulariaceae      0.000183\n",
      "euphorbiaceae        0.000183\n",
      "Pristilomatidae      0.000183\n",
      "Embiotocidae         0.000183\n",
      "Myrmeleontidae       0.000183\n",
      "Name: Family, Length: 571, dtype: float64\n"
     ]
    }
   ],
   "source": [
    "# species families\n",
    "print(species['Family'].value_counts())\n",
    "\n",
    "# percentage\n",
    "print(species['Family'].value_counts()/species['Family'].value_counts().sum())"
   ]
  },
  {
   "cell_type": "code",
   "execution_count": 7,
   "metadata": {},
   "outputs": [
    {
     "name": "stdout",
     "output_type": "stream",
     "text": [
      "Flowering Plants            2213\n",
      "Insects                      775\n",
      "Birds                        655\n",
      "Fishes                       442\n",
      "Mammals                      441\n",
      "Reptiles                     229\n",
      "Snails                       166\n",
      "Clams                        146\n",
      "Ferns and Allies             110\n",
      "Crustaceans                  109\n",
      "Amphibians                   108\n",
      "Arachnids                     28\n",
      "Lichens                       24\n",
      "Conifers and Cycads           12\n",
      "Flatworms and Roundworms       6\n",
      "Sponges                        5\n",
      "Annelid Worms                  3\n",
      "Millipedes                     1\n",
      "Hydroids                       1\n",
      "Corals                         1\n",
      "Name: Group, dtype: int64\n",
      "Flowering Plants            0.404201\n",
      "Insects                     0.141553\n",
      "Birds                       0.119635\n",
      "Fishes                      0.080731\n",
      "Mammals                     0.080548\n",
      "Reptiles                    0.041826\n",
      "Snails                      0.030320\n",
      "Clams                       0.026667\n",
      "Ferns and Allies            0.020091\n",
      "Crustaceans                 0.019909\n",
      "Amphibians                  0.019726\n",
      "Arachnids                   0.005114\n",
      "Lichens                     0.004384\n",
      "Conifers and Cycads         0.002192\n",
      "Flatworms and Roundworms    0.001096\n",
      "Sponges                     0.000913\n",
      "Annelid Worms               0.000548\n",
      "Millipedes                  0.000183\n",
      "Hydroids                    0.000183\n",
      "Corals                      0.000183\n",
      "Name: Group, dtype: float64\n"
     ]
    },
    {
     "data": {
      "text/plain": [
       "(array([ 0,  1,  2,  3,  4,  5,  6,  7,  8,  9, 10, 11, 12, 13, 14, 15, 16,\n",
       "        17, 18, 19]), <a list of 20 Text xticklabel objects>)"
      ]
     },
     "execution_count": 7,
     "metadata": {},
     "output_type": "execute_result"
    },
    {
     "data": {
      "image/png": "[encoded data removed]",
      "text/plain": [
       "<Figure size 720x432 with 1 Axes>"
      ]
     },
     "metadata": {
      "needs_background": "light"
     },
     "output_type": "display_data"
    }
   ],
   "source": [
    "# species groups\n",
    "print(species['Group'].value_counts())\n",
    "\n",
    "# percentage\n",
    "print(species['Group'].value_counts()/species['Group'].value_counts().sum())\n",
    "\n",
    "fig, aa = plt.subplots(figsize=(10,6))\n",
    "sns.countplot(species['Group'],\n",
    "              order=species['Group'].value_counts().index,\n",
    "              alpha=0.8)\n",
    "plt.xticks(rotation=90)"
   ]
  },
  {
   "cell_type": "code",
   "execution_count": 11,
   "metadata": {},
   "outputs": [
    {
     "name": "stdout",
     "output_type": "stream",
     "text": [
      "4       1536\n",
      "3        857\n",
      "1        806\n",
      "5        724\n",
      "2        630\n",
      "6        563\n",
      "8        269\n",
      "7         51\n",
      "NMFS      39\n",
      "Name: Region, dtype: int64\n",
      "4       0.280548\n",
      "3       0.156530\n",
      "1       0.147215\n",
      "5       0.132237\n",
      "2       0.115068\n",
      "6       0.102831\n",
      "8       0.049132\n",
      "7       0.009315\n",
      "NMFS    0.007123\n",
      "Name: Region, dtype: float64\n"
     ]
    },
    {
     "data": {
      "text/plain": [
       "(array([0, 1, 2, 3, 4, 5, 6, 7, 8]), <a list of 9 Text xticklabel objects>)"
      ]
     },
     "execution_count": 11,
     "metadata": {},
     "output_type": "execute_result"
    },
    {
     "data": {
      "image/png": "[encoded data removed]",
      "text/plain": [
       "<Figure size 720x432 with 1 Axes>"
      ]
     },
     "metadata": {
      "needs_background": "light"
     },
     "output_type": "display_data"
    }
   ],
   "source": [
    "# lead geographic regions\n",
    "print(species['Region'].value_counts())\n",
    "\n",
    "# percentage\n",
    "print(species['Region'].value_counts()/species['Region'].value_counts().sum())\n",
    "\n",
    "fig, aa = plt.subplots(figsize=(10,6))\n",
    "sns.countplot(species['Region'],\n",
    "              order=species['Region'].value_counts().index,\n",
    "              alpha=0.8)\n",
    "plt.xticks(rotation=90)"
   ]
  },
  {
   "cell_type": "code",
   "execution_count": 9,
   "metadata": {},
   "outputs": [
    {
     "name": "stdout",
     "output_type": "stream",
     "text": [
      "P    2359\n",
      "V    1875\n",
      "I    1241\n",
      "Name: VIP, dtype: int64\n"
     ]
    },
    {
     "data": {
      "text/plain": [
       "(array([0, 1, 2]), <a list of 3 Text xticklabel objects>)"
      ]
     },
     "execution_count": 9,
     "metadata": {},
     "output_type": "execute_result"
    },
    {
     "data": {
      "image/png": "[encoded data removed]",
      "text/plain": [
       "<Figure size 720x432 with 1 Axes>"
      ]
     },
     "metadata": {
      "needs_background": "light"
     },
     "output_type": "display_data"
    }
   ],
   "source": [
    "# vertebrate / invertebrate / plants\n",
    "print(species['VIP'].value_counts())\n",
    "\n",
    "fig, aa = plt.subplots(figsize=(10,6))\n",
    "sns.countplot(species['VIP'],\n",
    "              order=species['VIP'].value_counts().index,\n",
    "              alpha=0.8)\n",
    "plt.xticks(rotation=90)"
   ]
  },
  {
   "cell_type": "code",
   "execution_count": 10,
   "metadata": {
    "scrolled": false
   },
   "outputs": [
    {
     "name": "stdout",
     "output_type": "stream",
     "text": [
      "CA    411\n",
      "FL    234\n",
      "TX    222\n",
      "HI    212\n",
      "NC    210\n",
      "AL    189\n",
      "AZ    188\n",
      "GA    176\n",
      "VA    160\n",
      "OR    157\n",
      "TN    150\n",
      "NV    142\n",
      "UT    139\n",
      "NM    138\n",
      "SC    133\n",
      "AR    118\n",
      "CO    115\n",
      "MO    114\n",
      "WA    108\n",
      "KY    104\n",
      "MS    102\n",
      "IL     99\n",
      "NY     98\n",
      "OH     93\n",
      "PA     90\n",
      "IN     89\n",
      "LA     88\n",
      "WV     87\n",
      "OK     81\n",
      "ID     80\n",
      "MI     78\n",
      "WI     77\n",
      "MD     75\n",
      "MT     71\n",
      "MN     70\n",
      "WY     68\n",
      "NJ     66\n",
      "DE     65\n",
      "KS     64\n",
      "MA     62\n",
      "IA     61\n",
      "ME     56\n",
      "AK     54\n",
      "NH     47\n",
      "NE     46\n",
      "CT     44\n",
      "SD     43\n",
      "VT     40\n",
      "RI     31\n",
      "ND     30\n",
      "Name: State, dtype: int64\n",
      "CA    0.075068\n",
      "FL    0.042740\n",
      "TX    0.040548\n",
      "HI    0.038721\n",
      "NC    0.038356\n",
      "AL    0.034521\n",
      "AZ    0.034338\n",
      "GA    0.032146\n",
      "VA    0.029224\n",
      "OR    0.028676\n",
      "TN    0.027397\n",
      "NV    0.025936\n",
      "UT    0.025388\n",
      "NM    0.025205\n",
      "SC    0.024292\n",
      "AR    0.021553\n",
      "CO    0.021005\n",
      "MO    0.020822\n",
      "WA    0.019726\n",
      "KY    0.018995\n",
      "MS    0.018630\n",
      "IL    0.018082\n",
      "NY    0.017900\n",
      "OH    0.016986\n",
      "PA    0.016438\n",
      "IN    0.016256\n",
      "LA    0.016073\n",
      "WV    0.015890\n",
      "OK    0.014795\n",
      "ID    0.014612\n",
      "MI    0.014247\n",
      "WI    0.014064\n",
      "MD    0.013699\n",
      "MT    0.012968\n",
      "MN    0.012785\n",
      "WY    0.012420\n",
      "NJ    0.012055\n",
      "DE    0.011872\n",
      "KS    0.011689\n",
      "MA    0.011324\n",
      "IA    0.011142\n",
      "ME    0.010228\n",
      "AK    0.009863\n",
      "NH    0.008584\n",
      "NE    0.008402\n",
      "CT    0.008037\n",
      "SD    0.007854\n",
      "VT    0.007306\n",
      "RI    0.005662\n",
      "ND    0.005479\n",
      "Name: State, dtype: float64\n"
     ]
    },
    {
     "data": {
      "text/plain": [
       "(array([ 0,  1,  2,  3,  4,  5,  6,  7,  8,  9, 10, 11, 12, 13, 14, 15, 16,\n",
       "        17, 18, 19, 20, 21, 22, 23, 24, 25, 26, 27, 28, 29, 30, 31, 32, 33,\n",
       "        34, 35, 36, 37, 38, 39, 40, 41, 42, 43, 44, 45, 46, 47, 48, 49]),\n",
       " <a list of 50 Text xticklabel objects>)"
      ]
     },
     "execution_count": 10,
     "metadata": {},
     "output_type": "execute_result"
    },
    {
     "data": {
      "image/png": "[encoded data removed]",
      "text/plain": [
       "<Figure size 720x432 with 1 Axes>"
      ]
     },
     "metadata": {
      "needs_background": "light"
     },
     "output_type": "display_data"
    }
   ],
   "source": [
    "# states\n",
    "print(species['State'].value_counts())\n",
    "\n",
    "# percentage\n",
    "print(species['State'].value_counts()/species['State'].value_counts().sum())\n",
    "\n",
    "fig, aa = plt.subplots(figsize=(10,6))\n",
    "sns.countplot(species['State'],\n",
    "              order=species['State'].value_counts().index,\n",
    "              alpha=0.8)\n",
    "plt.xticks(rotation=90)"
   ]
  }
 ],
 "metadata": {
  "kernelspec": {
   "display_name": "Python 3",
   "language": "python",
   "name": "python3"
  },
  "language_info": {
   "codemirror_mode": {
    "name": "ipython",
    "version": 3
   },
   "file_extension": ".py",
   "mimetype": "text/x-python",
   "name": "python",
   "nbconvert_exporter": "python",
   "pygments_lexer": "ipython3",
   "version": "3.7.1"
  }
 },
 "nbformat": 4,
 "nbformat_minor": 2
}
