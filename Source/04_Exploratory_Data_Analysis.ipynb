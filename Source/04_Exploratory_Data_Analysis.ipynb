{
 "cells": [
  {
   "cell_type": "markdown",
   "metadata": {},
   "source": [
    "# Exploratory Data Analysis"
   ]
  },
  {
   "cell_type": "code",
   "execution_count": 1,
   "metadata": {},
   "outputs": [],
   "source": [
    "import pandas as pd\n",
    "import matplotlib.pyplot as plt\n",
    "import seaborn as sns\n",
    "sns.set_style(\"darkgrid\")"
   ]
  },
  {
   "cell_type": "markdown",
   "metadata": {},
   "source": [
    "### Load Data from U.S. Fish & Wildlife Service"
   ]
  },
  {
   "cell_type": "code",
   "execution_count": 2,
   "metadata": {
    "scrolled": true
   },
   "outputs": [
    {
     "name": "stdout",
     "output_type": "stream",
     "text": [
      "<class 'pandas.core.frame.DataFrame'>\n",
      "Int64Index: 11737 entries, 0 to 13390\n",
      "Data columns (total 7 columns):\n",
      "Scientific Name           11737 non-null object\n",
      "Common Name               11737 non-null object\n",
      "Group                     11737 non-null object\n",
      "Region                    11737 non-null object\n",
      "Federal Listing Status    11737 non-null object\n",
      "VIP                       11737 non-null object\n",
      "State                     11737 non-null object\n",
      "dtypes: object(7)\n",
      "memory usage: 733.6+ KB\n"
     ]
    }
   ],
   "source": [
    "species = pd.read_pickle(\"../Data/fws.pkl\")\n",
    "species.info()"
   ]
  },
  {
   "cell_type": "code",
   "execution_count": 3,
   "metadata": {},
   "outputs": [
    {
     "data": {
      "text/html": [
       "<div>\n",
       "<style scoped>\n",
       "    .dataframe tbody tr th:only-of-type {\n",
       "        vertical-align: middle;\n",
       "    }\n",
       "\n",
       "    .dataframe tbody tr th {\n",
       "        vertical-align: top;\n",
       "    }\n",
       "\n",
       "    .dataframe thead th {\n",
       "        text-align: right;\n",
       "    }\n",
       "</style>\n",
       "<table border=\"1\" class=\"dataframe\">\n",
       "  <thead>\n",
       "    <tr style=\"text-align: right;\">\n",
       "      <th></th>\n",
       "      <th>Scientific Name</th>\n",
       "      <th>Common Name</th>\n",
       "      <th>Group</th>\n",
       "      <th>Region</th>\n",
       "      <th>Federal Listing Status</th>\n",
       "      <th>VIP</th>\n",
       "      <th>State</th>\n",
       "    </tr>\n",
       "  </thead>\n",
       "  <tbody>\n",
       "    <tr>\n",
       "      <th>count</th>\n",
       "      <td>11737</td>\n",
       "      <td>11737</td>\n",
       "      <td>11737</td>\n",
       "      <td>11737</td>\n",
       "      <td>11737</td>\n",
       "      <td>11737</td>\n",
       "      <td>11737</td>\n",
       "    </tr>\n",
       "    <tr>\n",
       "      <th>unique</th>\n",
       "      <td>7116</td>\n",
       "      <td>5217</td>\n",
       "      <td>20</td>\n",
       "      <td>9</td>\n",
       "      <td>3</td>\n",
       "      <td>3</td>\n",
       "      <td>50</td>\n",
       "    </tr>\n",
       "    <tr>\n",
       "      <th>top</th>\n",
       "      <td>Accipiter gentilis</td>\n",
       "      <td>No common name</td>\n",
       "      <td>Flowering Plants</td>\n",
       "      <td>1</td>\n",
       "      <td>Not Listed</td>\n",
       "      <td>P</td>\n",
       "      <td>CA</td>\n",
       "    </tr>\n",
       "    <tr>\n",
       "      <th>freq</th>\n",
       "      <td>44</td>\n",
       "      <td>1807</td>\n",
       "      <td>6288</td>\n",
       "      <td>3904</td>\n",
       "      <td>9040</td>\n",
       "      <td>6492</td>\n",
       "      <td>1697</td>\n",
       "    </tr>\n",
       "  </tbody>\n",
       "</table>\n",
       "</div>"
      ],
      "text/plain": [
       "           Scientific Name     Common Name             Group Region  \\\n",
       "count                11737           11737             11737  11737   \n",
       "unique                7116            5217                20      9   \n",
       "top     Accipiter gentilis  No common name  Flowering Plants      1   \n",
       "freq                    44            1807              6288   3904   \n",
       "\n",
       "       Federal Listing Status    VIP  State  \n",
       "count                   11737  11737  11737  \n",
       "unique                      3      3     50  \n",
       "top                Not Listed      P     CA  \n",
       "freq                     9040   6492   1697  "
      ]
     },
     "execution_count": 3,
     "metadata": {},
     "output_type": "execute_result"
    }
   ],
   "source": [
    "species.describe()"
   ]
  },
  {
   "cell_type": "code",
   "execution_count": 4,
   "metadata": {
    "scrolled": true
   },
   "outputs": [
    {
     "data": {
      "text/html": [
       "<div>\n",
       "<style scoped>\n",
       "    .dataframe tbody tr th:only-of-type {\n",
       "        vertical-align: middle;\n",
       "    }\n",
       "\n",
       "    .dataframe tbody tr th {\n",
       "        vertical-align: top;\n",
       "    }\n",
       "\n",
       "    .dataframe thead th {\n",
       "        text-align: right;\n",
       "    }\n",
       "</style>\n",
       "<table border=\"1\" class=\"dataframe\">\n",
       "  <thead>\n",
       "    <tr style=\"text-align: right;\">\n",
       "      <th></th>\n",
       "      <th>Scientific Name</th>\n",
       "      <th>Common Name</th>\n",
       "      <th>Group</th>\n",
       "      <th>Region</th>\n",
       "      <th>Federal Listing Status</th>\n",
       "      <th>VIP</th>\n",
       "      <th>State</th>\n",
       "    </tr>\n",
       "  </thead>\n",
       "  <tbody>\n",
       "    <tr>\n",
       "      <th>0</th>\n",
       "      <td>Accipiter gentilis</td>\n",
       "      <td>Northern goshawk</td>\n",
       "      <td>Birds</td>\n",
       "      <td>2</td>\n",
       "      <td>Not Listed</td>\n",
       "      <td>V</td>\n",
       "      <td>AL</td>\n",
       "    </tr>\n",
       "    <tr>\n",
       "      <th>1</th>\n",
       "      <td>Acipenser fulvescens</td>\n",
       "      <td>Lake sturgeon</td>\n",
       "      <td>Fishes</td>\n",
       "      <td>3</td>\n",
       "      <td>Not Listed</td>\n",
       "      <td>V</td>\n",
       "      <td>AL</td>\n",
       "    </tr>\n",
       "    <tr>\n",
       "      <th>2</th>\n",
       "      <td>Acipenser oxyrinchus (=oxyrhynchus) desotoi</td>\n",
       "      <td>Atlantic sturgeon (Gulf subspecies)</td>\n",
       "      <td>Fishes</td>\n",
       "      <td>4</td>\n",
       "      <td>Threatened</td>\n",
       "      <td>V</td>\n",
       "      <td>AL</td>\n",
       "    </tr>\n",
       "    <tr>\n",
       "      <th>3</th>\n",
       "      <td>Agarodes alabamensis</td>\n",
       "      <td>[Unnamed] caddisfly</td>\n",
       "      <td>Insects</td>\n",
       "      <td>4</td>\n",
       "      <td>Not Listed</td>\n",
       "      <td>I</td>\n",
       "      <td>AL</td>\n",
       "    </tr>\n",
       "    <tr>\n",
       "      <th>4</th>\n",
       "      <td>Agrimonia incisa</td>\n",
       "      <td>Incised groovebur</td>\n",
       "      <td>Flowering Plants</td>\n",
       "      <td>4</td>\n",
       "      <td>Not Listed</td>\n",
       "      <td>P</td>\n",
       "      <td>AL</td>\n",
       "    </tr>\n",
       "  </tbody>\n",
       "</table>\n",
       "</div>"
      ],
      "text/plain": [
       "                               Scientific Name  \\\n",
       "0                           Accipiter gentilis   \n",
       "1                         Acipenser fulvescens   \n",
       "2  Acipenser oxyrinchus (=oxyrhynchus) desotoi   \n",
       "3                         Agarodes alabamensis   \n",
       "4                             Agrimonia incisa   \n",
       "\n",
       "                           Common Name             Group Region  \\\n",
       "0                     Northern goshawk             Birds      2   \n",
       "1                        Lake sturgeon            Fishes      3   \n",
       "2  Atlantic sturgeon (Gulf subspecies)            Fishes      4   \n",
       "3                  [Unnamed] caddisfly           Insects      4   \n",
       "4                    Incised groovebur  Flowering Plants      4   \n",
       "\n",
       "  Federal Listing Status VIP State  \n",
       "0             Not Listed   V    AL  \n",
       "1             Not Listed   V    AL  \n",
       "2             Threatened   V    AL  \n",
       "3             Not Listed   I    AL  \n",
       "4             Not Listed   P    AL  "
      ]
     },
     "execution_count": 4,
     "metadata": {},
     "output_type": "execute_result"
    }
   ],
   "source": [
    "species.head()"
   ]
  },
  {
   "cell_type": "markdown",
   "metadata": {},
   "source": [
    "### Target Distribution"
   ]
  },
  {
   "cell_type": "code",
   "execution_count": 5,
   "metadata": {},
   "outputs": [
    {
     "name": "stdout",
     "output_type": "stream",
     "text": [
      "Federal Listing Status\n",
      "Endangered    1899\n",
      "Not Listed    9040\n",
      "Threatened     798\n",
      "Name: Federal Listing Status, dtype: int64\n",
      "Endangered: 0.16179602964982534\n",
      "Not Listed: 0.7702138536252876\n",
      "Threatened: 0.06799011672488711\n"
     ]
    },
    {
     "data": {
      "text/plain": [
       "<matplotlib.axes._subplots.AxesSubplot at 0x1a176b15c0>"
      ]
     },
     "execution_count": 5,
     "metadata": {},
     "output_type": "execute_result"
    },
    {
     "data": {
      "image/png": "[encoded data removed]",
      "text/plain": [
       "<Figure size 720x432 with 1 Axes>"
      ]
     },
     "metadata": {
      "needs_background": "light"
     },
     "output_type": "display_data"
    }
   ],
   "source": [
    "# federal listing status\n",
    "print(species.groupby('Federal Listing Status')['Federal Listing Status'].count())\n",
    "print('Endangered: ' + str((species['Federal Listing Status'] == 'Endangered').sum() / species.shape[0]))\n",
    "print('Not Listed: ' + str((species['Federal Listing Status'] == 'Not Listed').sum() / species.shape[0]))\n",
    "print('Threatened: ' + str((species['Federal Listing Status'] == 'Threatened').sum() / species.shape[0]))\n",
    "\n",
    "# plot class imbalance\n",
    "fig, ax = plt.subplots(figsize=(10,6))\n",
    "sns.countplot(species['Federal Listing Status'],\n",
    "              order=species['Federal Listing Status'].value_counts().index,\n",
    "              alpha=0.8)"
   ]
  },
  {
   "cell_type": "markdown",
   "metadata": {},
   "source": [
    "### Feature Distribution"
   ]
  },
  {
   "cell_type": "code",
   "execution_count": 6,
   "metadata": {},
   "outputs": [
    {
     "name": "stdout",
     "output_type": "stream",
     "text": [
      "Group\n",
      "Amphibians                   143\n",
      "Annelid Worms                  4\n",
      "Arachnids                     50\n",
      "Birds                        681\n",
      "Clams                        497\n",
      "Conifers and Cycads           20\n",
      "Corals                         2\n",
      "Crustaceans                  226\n",
      "Ferns and Allies             158\n",
      "Fishes                       733\n",
      "Flatworms and Roundworms       9\n",
      "Flowering Plants            6288\n",
      "Hydroids                       1\n",
      "Insects                     1460\n",
      "Lichens                       26\n",
      "Mammals                      661\n",
      "Millipedes                     1\n",
      "Reptiles                     283\n",
      "Snails                       487\n",
      "Sponges                        7\n",
      "Name: Group, dtype: int64\n",
      "Group\n",
      "Amphibians                  0.012184\n",
      "Annelid Worms               0.000341\n",
      "Arachnids                   0.004260\n",
      "Birds                       0.058022\n",
      "Clams                       0.042345\n",
      "Conifers and Cycads         0.001704\n",
      "Corals                      0.000170\n",
      "Crustaceans                 0.019255\n",
      "Ferns and Allies            0.013462\n",
      "Fishes                      0.062452\n",
      "Flatworms and Roundworms    0.000767\n",
      "Flowering Plants            0.535742\n",
      "Hydroids                    0.000085\n",
      "Insects                     0.124393\n",
      "Lichens                     0.002215\n",
      "Mammals                     0.056318\n",
      "Millipedes                  0.000085\n",
      "Reptiles                    0.024112\n",
      "Snails                      0.041493\n",
      "Sponges                     0.000596\n",
      "Name: Group, dtype: float64\n"
     ]
    },
    {
     "data": {
      "text/plain": [
       "(array([ 0,  1,  2,  3,  4,  5,  6,  7,  8,  9, 10, 11, 12, 13, 14, 15, 16,\n",
       "        17, 18, 19]), <a list of 20 Text xticklabel objects>)"
      ]
     },
     "execution_count": 6,
     "metadata": {},
     "output_type": "execute_result"
    },
    {
     "data": {
      "image/png": "[encoded data removed]",
      "text/plain": [
       "<Figure size 720x432 with 1 Axes>"
      ]
     },
     "metadata": {
      "needs_background": "light"
     },
     "output_type": "display_data"
    }
   ],
   "source": [
    "# species groups\n",
    "print(species.groupby('Group')['Group'].count())\n",
    "\n",
    "# percentage\n",
    "print(species.groupby('Group')['Group'].count()/species.groupby('Group')['Group'].count().sum())\n",
    "\n",
    "fig, aa = plt.subplots(figsize=(10,6))\n",
    "sns.countplot(species['Group'],\n",
    "              order=species['Group'].value_counts().index,\n",
    "              alpha=0.8)\n",
    "plt.xticks(rotation=90)"
   ]
  },
  {
   "cell_type": "code",
   "execution_count": 7,
   "metadata": {},
   "outputs": [
    {
     "name": "stdout",
     "output_type": "stream",
     "text": [
      "Region\n",
      "1       3904\n",
      "2       1271\n",
      "3       1071\n",
      "4       2790\n",
      "5        989\n",
      "6       1053\n",
      "7         83\n",
      "8        519\n",
      "NMFS      57\n",
      "Name: Region, dtype: int64\n"
     ]
    },
    {
     "data": {
      "text/plain": [
       "(array([0, 1, 2, 3, 4, 5, 6, 7, 8]), <a list of 9 Text xticklabel objects>)"
      ]
     },
     "execution_count": 7,
     "metadata": {},
     "output_type": "execute_result"
    },
    {
     "data": {
      "image/png": "[encoded data removed]",
      "text/plain": [
       "<Figure size 720x432 with 1 Axes>"
      ]
     },
     "metadata": {
      "needs_background": "light"
     },
     "output_type": "display_data"
    }
   ],
   "source": [
    "# lead geographic regions\n",
    "print(species.groupby('Region')['Region'].count())\n",
    "\n",
    "fig, aa = plt.subplots(figsize=(10,6))\n",
    "sns.countplot(species['Region'],\n",
    "              order=species['Region'].value_counts().index,\n",
    "              alpha=0.8)\n",
    "plt.xticks(rotation=90)"
   ]
  },
  {
   "cell_type": "code",
   "execution_count": 8,
   "metadata": {},
   "outputs": [
    {
     "name": "stdout",
     "output_type": "stream",
     "text": [
      "VIP\n",
      "I    2744\n",
      "P    6492\n",
      "V    2501\n",
      "Name: VIP, dtype: int64\n"
     ]
    },
    {
     "data": {
      "text/plain": [
       "(array([0, 1, 2]), <a list of 3 Text xticklabel objects>)"
      ]
     },
     "execution_count": 8,
     "metadata": {},
     "output_type": "execute_result"
    },
    {
     "data": {
      "image/png": "[encoded data removed]",
      "text/plain": [
       "<Figure size 720x432 with 1 Axes>"
      ]
     },
     "metadata": {
      "needs_background": "light"
     },
     "output_type": "display_data"
    }
   ],
   "source": [
    "# vertebrate / invertebrate / plants\n",
    "print(species.groupby('VIP')['VIP'].count())\n",
    "\n",
    "fig, aa = plt.subplots(figsize=(10,6))\n",
    "sns.countplot(species['VIP'],\n",
    "              order=species['VIP'].value_counts().index,\n",
    "              alpha=0.8)\n",
    "plt.xticks(rotation=90)"
   ]
  },
  {
   "cell_type": "code",
   "execution_count": 9,
   "metadata": {
    "scrolled": false
   },
   "outputs": [
    {
     "name": "stdout",
     "output_type": "stream",
     "text": [
      "State\n",
      "AK      88\n",
      "AL     453\n",
      "AR     165\n",
      "AZ     433\n",
      "CA    1697\n",
      "CO     216\n",
      "CT      52\n",
      "DE      83\n",
      "FL     495\n",
      "GA     332\n",
      "HI    1480\n",
      "IA      75\n",
      "ID     175\n",
      "IL     141\n",
      "IN     124\n",
      "KS      66\n",
      "KY     180\n",
      "LA     103\n",
      "MA      78\n",
      "MD      97\n",
      "ME      64\n",
      "MI     102\n",
      "MN      88\n",
      "MO     142\n",
      "MS     138\n",
      "MT      91\n",
      "NC     359\n",
      "ND      32\n",
      "NE      49\n",
      "NH      55\n",
      "NJ      83\n",
      "NM     247\n",
      "NV     439\n",
      "NY     122\n",
      "OH     114\n",
      "OK      97\n",
      "OR     445\n",
      "PA     125\n",
      "RI      32\n",
      "SC     174\n",
      "SD      46\n",
      "TN     333\n",
      "TX     521\n",
      "UT     426\n",
      "VA     254\n",
      "VT      43\n",
      "WA     223\n",
      "WI     101\n",
      "WV     129\n",
      "WY     130\n",
      "Name: State, dtype: int64\n",
      "State\n",
      "AK    0.007498\n",
      "AL    0.038596\n",
      "AR    0.014058\n",
      "AZ    0.036892\n",
      "CA    0.144585\n",
      "CO    0.018403\n",
      "CT    0.004430\n",
      "DE    0.007072\n",
      "FL    0.042174\n",
      "GA    0.028287\n",
      "HI    0.126097\n",
      "IA    0.006390\n",
      "ID    0.014910\n",
      "IL    0.012013\n",
      "IN    0.010565\n",
      "KS    0.005623\n",
      "KY    0.015336\n",
      "LA    0.008776\n",
      "MA    0.006646\n",
      "MD    0.008264\n",
      "ME    0.005453\n",
      "MI    0.008690\n",
      "MN    0.007498\n",
      "MO    0.012098\n",
      "MS    0.011758\n",
      "MT    0.007753\n",
      "NC    0.030587\n",
      "ND    0.002726\n",
      "NE    0.004175\n",
      "NH    0.004686\n",
      "NJ    0.007072\n",
      "NM    0.021045\n",
      "NV    0.037403\n",
      "NY    0.010394\n",
      "OH    0.009713\n",
      "OK    0.008264\n",
      "OR    0.037914\n",
      "PA    0.010650\n",
      "RI    0.002726\n",
      "SC    0.014825\n",
      "SD    0.003919\n",
      "TN    0.028372\n",
      "TX    0.044390\n",
      "UT    0.036295\n",
      "VA    0.021641\n",
      "VT    0.003664\n",
      "WA    0.019000\n",
      "WI    0.008605\n",
      "WV    0.010991\n",
      "WY    0.011076\n",
      "Name: State, dtype: float64\n"
     ]
    },
    {
     "data": {
      "text/plain": [
       "(array([ 0,  1,  2,  3,  4,  5,  6,  7,  8,  9, 10, 11, 12, 13, 14, 15, 16,\n",
       "        17, 18, 19, 20, 21, 22, 23, 24, 25, 26, 27, 28, 29, 30, 31, 32, 33,\n",
       "        34, 35, 36, 37, 38, 39, 40, 41, 42, 43, 44, 45, 46, 47, 48, 49]),\n",
       " <a list of 50 Text xticklabel objects>)"
      ]
     },
     "execution_count": 9,
     "metadata": {},
     "output_type": "execute_result"
    },
    {
     "data": {
      "image/png": "[encoded data removed]",
      "text/plain": [
       "<Figure size 720x432 with 1 Axes>"
      ]
     },
     "metadata": {
      "needs_background": "light"
     },
     "output_type": "display_data"
    }
   ],
   "source": [
    "# states\n",
    "print(species.groupby('State')['State'].count())\n",
    "\n",
    "# percentage\n",
    "print(species.groupby('State')['State'].count()/species.groupby('State')['State'].count().sum())\n",
    "\n",
    "fig, aa = plt.subplots(figsize=(10,6))\n",
    "sns.countplot(species['State'],\n",
    "              order=species['State'].value_counts().index,\n",
    "              alpha=0.8)\n",
    "plt.xticks(rotation=90)"
   ]
  }
 ],
 "metadata": {
  "kernelspec": {
   "display_name": "Python 3",
   "language": "python",
   "name": "python3"
  },
  "language_info": {
   "codemirror_mode": {
    "name": "ipython",
    "version": 3
   },
   "file_extension": ".py",
   "mimetype": "text/x-python",
   "name": "python",
   "nbconvert_exporter": "python",
   "pygments_lexer": "ipython3",
   "version": "3.7.1"
  }
 },
 "nbformat": 4,
 "nbformat_minor": 2
}
