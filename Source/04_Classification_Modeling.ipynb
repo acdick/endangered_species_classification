{
 "cells": [
  {
   "cell_type": "markdown",
   "metadata": {},
   "source": [
    "# Data Scaling"
   ]
  },
  {
   "cell_type": "code",
   "execution_count": 26,
   "metadata": {},
   "outputs": [],
   "source": [
    "from sklearn.model_selection import train_test_split"
   ]
  },
  {
   "cell_type": "code",
   "execution_count": 27,
   "metadata": {},
   "outputs": [
    {
     "name": "stdout",
     "output_type": "stream",
     "text": [
      "Test Data\n",
      "Endangered: 0.16695059625212946\n",
      "Not Listed: 0.7597955706984668\n",
      "Threatened: 0.07325383304940375\n"
     ]
    }
   ],
   "source": [
    "# setting up testing and training sets\n",
    "X_train, X_test, y_train, y_test = train_test_split(X, y, test_size=0.20)\n",
    "\n",
    "# federal listing status\n",
    "print('Test Data')\n",
    "print('Endangered: ' + str((y_test == 'Endangered').sum() / y_test.count()))\n",
    "print('Not Listed: ' + str((y_test == 'Not Listed').sum() / y_test.count()))\n",
    "print('Threatened: ' + str((y_test == 'Threatened').sum() / y_test.count()))"
   ]
  },
  {
   "cell_type": "markdown",
   "metadata": {},
   "source": [
    "### Class Imbalance"
   ]
  },
  {
   "cell_type": "code",
   "execution_count": 28,
   "metadata": {},
   "outputs": [],
   "source": [
    "from sklearn.dummy import DummyClassifier\n",
    "from sklearn.linear_model import LogisticRegression\n",
    "from sklearn.metrics import accuracy_score, f1_score\n",
    "from imblearn.over_sampling import SMOTE\n",
    "import numpy as np"
   ]
  },
  {
   "cell_type": "code",
   "execution_count": 29,
   "metadata": {
    "scrolled": true
   },
   "outputs": [
    {
     "data": {
      "text/plain": [
       "DummyClassifier(constant=None, random_state=None, strategy='most_frequent')"
      ]
     },
     "execution_count": 29,
     "metadata": {},
     "output_type": "execute_result"
    }
   ],
   "source": [
    "# DummyClassifier to predict majority class\n",
    "dummy = DummyClassifier(strategy='most_frequent').fit(X_train, y_train)\n",
    "dummy_pred_train = dummy.predict(X_train)\n",
    "dummy_pred_test = dummy.predict(X_test)\n",
    "dummy"
   ]
  },
  {
   "cell_type": "code",
   "execution_count": 30,
   "metadata": {},
   "outputs": [
    {
     "name": "stdout",
     "output_type": "stream",
     "text": [
      "Train Accuracy score:  0.7728192565768452\n",
      "Train F1 score:  0.6737851037214285\n",
      "Test Accuracy score:  0.7597955706984668\n",
      "Test F1 score:  0.656086785152984\n"
     ]
    },
    {
     "name": "stderr",
     "output_type": "stream",
     "text": [
      "/anaconda3/lib/python3.7/site-packages/sklearn/metrics/classification.py:1143: UndefinedMetricWarning: F-score is ill-defined and being set to 0.0 in labels with no predicted samples.\n",
      "  'precision', 'predicted', average, warn_for)\n",
      "/anaconda3/lib/python3.7/site-packages/sklearn/metrics/classification.py:1143: UndefinedMetricWarning: F-score is ill-defined and being set to 0.0 in labels with no predicted samples.\n",
      "  'precision', 'predicted', average, warn_for)\n"
     ]
    }
   ],
   "source": [
    "# checking training metrics\n",
    "print('Train Accuracy score: ', accuracy_score(y_train, dummy_pred_train))\n",
    "print('Train F1 score: ', f1_score(y_train, dummy_pred_train, average='weighted'))\n",
    "\n",
    "# checking test metrics\n",
    "print('Test Accuracy score: ', accuracy_score(y_test, dummy_pred_test))\n",
    "print('Test F1 score: ', f1_score(y_test, dummy_pred_test, average='weighted'))"
   ]
  },
  {
   "cell_type": "code",
   "execution_count": 31,
   "metadata": {},
   "outputs": [
    {
     "name": "stderr",
     "output_type": "stream",
     "text": [
      "/anaconda3/lib/python3.7/site-packages/sklearn/linear_model/logistic.py:460: FutureWarning: Default multi_class will be changed to 'auto' in 0.22. Specify the multi_class option to silence this warning.\n",
      "  \"this warning.\", FutureWarning)\n"
     ]
    },
    {
     "data": {
      "text/plain": [
       "LogisticRegression(C=1000000000000.0, class_weight=None, dual=False,\n",
       "          fit_intercept=True, intercept_scaling=1, max_iter=100,\n",
       "          multi_class='warn', n_jobs=None, penalty='l2', random_state=None,\n",
       "          solver='liblinear', tol=0.0001, verbose=0, warm_start=False)"
      ]
     },
     "execution_count": 31,
     "metadata": {},
     "output_type": "execute_result"
    }
   ],
   "source": [
    "log_reg_clf = LogisticRegression(C=1e12, solver='liblinear')\n",
    "log_reg_clf.fit(X_train, y_train)\n",
    "y_pred_train = log_reg_clf.predict(X_train)\n",
    "y_pred_test = log_reg_clf.predict(X_test)\n",
    "log_reg_clf"
   ]
  },
  {
   "cell_type": "code",
   "execution_count": 32,
   "metadata": {},
   "outputs": [
    {
     "name": "stdout",
     "output_type": "stream",
     "text": [
      "Train Accuracy score:  0.810096921929918\n",
      "Train F1 score:  0.76583235304541\n",
      "Test Accuracy score:  0.8036626916524702\n",
      "Test F1 score:  0.7568596382773838\n"
     ]
    }
   ],
   "source": [
    "# checking training metrics\n",
    "print('Train Accuracy score: ', accuracy_score(y_train, y_pred_train))\n",
    "print('Train F1 score: ', f1_score(y_train, y_pred_train, average='weighted'))\n",
    "\n",
    "# checking test metrics\n",
    "print('Test Accuracy score: ', accuracy_score(y_test, y_pred_test))\n",
    "print('Test F1 score: ', f1_score(y_test, y_pred_test, average='weighted'))"
   ]
  },
  {
   "cell_type": "code",
   "execution_count": null,
   "metadata": {},
   "outputs": [],
   "source": []
  },
  {
   "cell_type": "code",
   "execution_count": 33,
   "metadata": {
    "scrolled": false
   },
   "outputs": [
    {
     "name": "stdout",
     "output_type": "stream",
     "text": [
      "9389\n",
      "Endangered: 0.16050697624880178\n",
      "Not Listed: 0.7728192565768452\n",
      "Threatened: 0.06667376717435297\n"
     ]
    },
    {
     "data": {
      "text/plain": [
       "<matplotlib.axes._subplots.AxesSubplot at 0x118c2bef0>"
      ]
     },
     "execution_count": 33,
     "metadata": {},
     "output_type": "execute_result"
    },
    {
     "data": {
      "image/png": "[encoded data removed]",
      "text/plain": [
       "<Figure size 720x432 with 1 Axes>"
      ]
     },
     "metadata": {},
     "output_type": "display_data"
    }
   ],
   "source": [
    "# federal listing status\n",
    "print(y_train.count())\n",
    "print('Endangered: ' + str((y_train == 'Endangered').sum() / y_train.count()))\n",
    "print('Not Listed: ' + str((y_train == 'Not Listed').sum() / y_train.count()))\n",
    "print('Threatened: ' + str((y_train == 'Threatened').sum() / y_train.count()))\n",
    "\n",
    "# plot class imbalance\n",
    "fig, ax = plt.subplots(figsize=(10,6))\n",
    "sns.countplot(y_train, alpha=0.8)"
   ]
  },
  {
   "cell_type": "code",
   "execution_count": 34,
   "metadata": {},
   "outputs": [
    {
     "data": {
      "text/plain": [
       "{'Not Listed': 7256, 'Endangered': 7256, 'Threatened': 7256}"
      ]
     },
     "execution_count": 34,
     "metadata": {},
     "output_type": "execute_result"
    }
   ],
   "source": [
    "keys = list(y_train.unique())\n",
    "values = np.ones((3), dtype=int) * (y_train == 'Not Listed').sum()\n",
    "sample_ratio = dict(zip(keys, values))\n",
    "sample_ratio"
   ]
  },
  {
   "cell_type": "code",
   "execution_count": 35,
   "metadata": {},
   "outputs": [
    {
     "name": "stdout",
     "output_type": "stream",
     "text": [
      "21768\n",
      "Endangered: 0.3333333333333333\n",
      "Not Listed: 0.3333333333333333\n",
      "Threatened: 0.3333333333333333\n"
     ]
    },
    {
     "data": {
      "text/plain": [
       "<matplotlib.axes._subplots.AxesSubplot at 0x118c0d518>"
      ]
     },
     "execution_count": 35,
     "metadata": {},
     "output_type": "execute_result"
    },
    {
     "data": {
      "image/png": "[encoded data removed]",
      "text/plain": [
       "<Figure size 720x432 with 1 Axes>"
      ]
     },
     "metadata": {},
     "output_type": "display_data"
    }
   ],
   "source": [
    "species['Federal Listing Status'].unique()\n",
    "\n",
    "sm = SMOTE(ratio=sample_ratio)\n",
    "X_train_sm, y_train_sm = sm.fit_sample(X_train, y_train)\n",
    "\n",
    "# federal listing status\n",
    "print(len(y_train_sm))\n",
    "print('Endangered: ' + str((y_train_sm == 'Endangered').sum() / len(y_train_sm)))\n",
    "print('Not Listed: ' + str((y_train_sm == 'Not Listed').sum() / len(y_train_sm)))\n",
    "print('Threatened: ' + str((y_train_sm == 'Threatened').sum() / len(y_train_sm)))\n",
    "\n",
    "# plot class imbalance\n",
    "fig, ax = plt.subplots(figsize=(10,6))\n",
    "sns.countplot(y_train_sm, alpha=0.8)"
   ]
  },
  {
   "cell_type": "code",
   "execution_count": 36,
   "metadata": {},
   "outputs": [
    {
     "data": {
      "text/plain": [
       "DummyClassifier(constant=None, random_state=None, strategy='most_frequent')"
      ]
     },
     "execution_count": 36,
     "metadata": {},
     "output_type": "execute_result"
    }
   ],
   "source": [
    "# DummyClassifier to predict majority class\n",
    "dummy = DummyClassifier(strategy='most_frequent').fit(X_train, y_train)\n",
    "dummy_pred_train_sm = dummy.predict(X_train_sm)\n",
    "dummy_pred_test = dummy.predict(X_test)\n",
    "dummy"
   ]
  },
  {
   "cell_type": "code",
   "execution_count": 37,
   "metadata": {},
   "outputs": [
    {
     "name": "stdout",
     "output_type": "stream",
     "text": [
      "Train Accuracy score:  0.3333333333333333\n",
      "Train F1 score:  0.16666666666666666\n",
      "Test Accuracy score:  0.7597955706984668\n",
      "Test F1 score:  0.656086785152984\n"
     ]
    },
    {
     "name": "stderr",
     "output_type": "stream",
     "text": [
      "/anaconda3/lib/python3.7/site-packages/sklearn/metrics/classification.py:1143: UndefinedMetricWarning: F-score is ill-defined and being set to 0.0 in labels with no predicted samples.\n",
      "  'precision', 'predicted', average, warn_for)\n",
      "/anaconda3/lib/python3.7/site-packages/sklearn/metrics/classification.py:1143: UndefinedMetricWarning: F-score is ill-defined and being set to 0.0 in labels with no predicted samples.\n",
      "  'precision', 'predicted', average, warn_for)\n"
     ]
    }
   ],
   "source": [
    "# checking training metrics\n",
    "print('Train Accuracy score: ', accuracy_score(y_train_sm, dummy_pred_train_sm))\n",
    "print('Train F1 score: ', f1_score(y_train_sm, dummy_pred_train_sm, average='weighted'))\n",
    "\n",
    "# checking test metrics\n",
    "print('Test Accuracy score: ', accuracy_score(y_test, dummy_pred_test))\n",
    "print('Test F1 score: ', f1_score(y_test, dummy_pred_test, average='weighted'))"
   ]
  },
  {
   "cell_type": "code",
   "execution_count": 38,
   "metadata": {},
   "outputs": [
    {
     "name": "stderr",
     "output_type": "stream",
     "text": [
      "/anaconda3/lib/python3.7/site-packages/sklearn/linear_model/logistic.py:460: FutureWarning: Default multi_class will be changed to 'auto' in 0.22. Specify the multi_class option to silence this warning.\n",
      "  \"this warning.\", FutureWarning)\n"
     ]
    },
    {
     "data": {
      "text/plain": [
       "LogisticRegression(C=1000000000000.0, class_weight=None, dual=False,\n",
       "          fit_intercept=True, intercept_scaling=1, max_iter=100,\n",
       "          multi_class='warn', n_jobs=None, penalty='l2', random_state=None,\n",
       "          solver='liblinear', tol=0.0001, verbose=0, warm_start=False)"
      ]
     },
     "execution_count": 38,
     "metadata": {},
     "output_type": "execute_result"
    }
   ],
   "source": [
    "log_reg_clf = LogisticRegression(C=1e12, solver='liblinear')\n",
    "log_reg_clf.fit(X_train_sm, y_train_sm)\n",
    "y_pred_train_sm = log_reg_clf.predict(X_train_sm)\n",
    "y_pred_test = log_reg_clf.predict(X_test)\n",
    "log_reg_clf"
   ]
  },
  {
   "cell_type": "code",
   "execution_count": 39,
   "metadata": {},
   "outputs": [
    {
     "name": "stdout",
     "output_type": "stream",
     "text": [
      "Train Accuracy score:  0.6538956266078647\n",
      "Train F1 score:  0.6461623785905141\n",
      "Test Accuracy score:  0.7555366269165247\n",
      "Test F1 score:  0.7513458843942121\n"
     ]
    }
   ],
   "source": [
    "# checking training metrics\n",
    "print('Train Accuracy score: ', accuracy_score(y_train_sm, y_pred_train_sm))\n",
    "print('Train F1 score: ', f1_score(y_train_sm, y_pred_train_sm, average='weighted'))\n",
    "\n",
    "# checking test metrics\n",
    "print('Test Accuracy score: ', accuracy_score(y_test, y_pred_test))\n",
    "print('Test F1 score: ', f1_score(y_test, y_pred_test, average='weighted'))"
   ]
  },
  {
   "cell_type": "markdown",
   "metadata": {},
   "source": [
    "### Model Fitting"
   ]
  },
  {
   "cell_type": "code",
   "execution_count": 40,
   "metadata": {},
   "outputs": [],
   "source": []
  },
  {
   "cell_type": "markdown",
   "metadata": {},
   "source": [
    "### Model Evaluation"
   ]
  },
  {
   "cell_type": "code",
   "execution_count": null,
   "metadata": {},
   "outputs": [],
   "source": []
  }
 ],
 "metadata": {
  "kernelspec": {
   "display_name": "Python 3",
   "language": "python",
   "name": "python3"
  },
  "language_info": {
   "codemirror_mode": {
    "name": "ipython",
    "version": 3
   },
   "file_extension": ".py",
   "mimetype": "text/x-python",
   "name": "python",
   "nbconvert_exporter": "python",
   "pygments_lexer": "ipython3",
   "version": "3.7.1"
  }
 },
 "nbformat": 4,
 "nbformat_minor": 2
}
